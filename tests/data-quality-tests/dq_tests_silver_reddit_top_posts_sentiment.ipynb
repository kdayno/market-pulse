{
 "cells": [
  {
   "cell_type": "code",
   "execution_count": 0,
   "metadata": {
    "application/vnd.databricks.v1+cell": {
     "cellMetadata": {
      "byteLimit": 2048000,
      "rowLimit": 10000
     },
     "inputWidgets": {},
     "nuid": "0780771d-92b0-4cd1-a192-4ac3319fafe6",
     "showTitle": false,
     "tableResultSettingsMap": {},
     "title": ""
    }
   },
   "outputs": [],
   "source": [
    "# Standard library imports\n",
    "import os\n",
    "\n",
    "# Third-party library imports\n",
    "from dotenv import load_dotenv\n",
    "from pyspark.testing import assertDataFrameEqual"
   ]
  },
  {
   "cell_type": "code",
   "execution_count": 0,
   "metadata": {
    "application/vnd.databricks.v1+cell": {
     "cellMetadata": {
      "byteLimit": 2048000,
      "rowLimit": 10000
     },
     "inputWidgets": {},
     "nuid": "cf17b710-f82f-4d82-8ad7-8d63b5bcd5b9",
     "showTitle": false,
     "tableResultSettingsMap": {},
     "title": ""
    }
   },
   "outputs": [],
   "source": [
    "load_dotenv()\n",
    "\n",
    "catalog_name = os.getenv('DATABRICKS_CATALOG_NAME')\n",
    "schema_name = os.getenv('DATABRICKS_SCHEMA_NAME')"
   ]
  },
  {
   "cell_type": "code",
   "execution_count": 0,
   "metadata": {
    "application/vnd.databricks.v1+cell": {
     "cellMetadata": {
      "byteLimit": 2048000,
      "rowLimit": 10000
     },
     "inputWidgets": {},
     "nuid": "e3b8b51f-7273-4def-8a50-91738e80881f",
     "showTitle": false,
     "tableResultSettingsMap": {},
     "title": ""
    }
   },
   "outputs": [],
   "source": [
    "dq_checks = spark.sql(\n",
    "    f\"\"\"\n",
    "    WITH data_quality_checks AS (\n",
    "    SELECT \n",
    "        -- unique_identifier: ticker_symbol + post_id\n",
    "        COUNT(DISTINCT ticker_symbol, post_id) = COUNT(*) AS is_unique_check\n",
    "        -- Sentiment score should be between 0 and 1 \n",
    "        , COUNT(CASE WHEN sentiment_score < 0 AND sentiment_score > 1 THEN 1 END) = 0 AS is_sentiment_score_valid\n",
    "        -- Sentiment should be: 'positive' or 'negative' or 'neutral' only\n",
    "        , COUNT(CASE WHEN sentiment NOT IN ('positive', 'negative', 'neutral') THEN 1 END) = 0 AS is_sentiment_valid\n",
    "    FROM {catalog_name}.{schema_name}.kdayno_silver_reddit_top_posts_sentiment\n",
    "    )\n",
    "\n",
    "    SELECT \n",
    "        is_unique_check \n",
    "        AND is_sentiment_score_valid\n",
    "        AND is_sentiment_valid AS all_dq_checks_passed\n",
    "    FROM data_quality_checks\n",
    "    \"\"\")"
   ]
  },
  {
   "cell_type": "code",
   "execution_count": 0,
   "metadata": {
    "application/vnd.databricks.v1+cell": {
     "cellMetadata": {
      "byteLimit": 2048000,
      "rowLimit": 10000
     },
     "inputWidgets": {},
     "nuid": "1a28314d-a6b9-4524-94f7-1f5fa042cc03",
     "showTitle": false,
     "tableResultSettingsMap": {},
     "title": ""
    }
   },
   "outputs": [],
   "source": [
    "expected_results = spark.createDataFrame(data=[(True,)], schema=['all_dq_checks_passed'])\n",
    "\n",
    "assertDataFrameEqual(expected_results, dq_checks)  # If successful, all data quality checks passed"
   ]
  },
  {
   "cell_type": "code",
   "execution_count": 0,
   "metadata": {
    "application/vnd.databricks.v1+cell": {
     "cellMetadata": {},
     "inputWidgets": {},
     "nuid": "11d8992f-47cb-4598-827b-07ed1a875922",
     "showTitle": false,
     "tableResultSettingsMap": {},
     "title": ""
    }
   },
   "outputs": [],
   "source": []
  }
 ],
 "metadata": {
  "application/vnd.databricks.v1+notebook": {
   "computePreferences": null,
   "dashboards": [],
   "environmentMetadata": {
    "base_environment": "",
    "environment_version": "2"
   },
   "language": "python",
   "notebookMetadata": {
    "pythonIndentUnit": 4
   },
   "notebookName": "dq_tests_silver_reddit_top_posts_sentiment",
   "widgets": {}
  },
  "language_info": {
   "name": "python"
  }
 },
 "nbformat": 4,
 "nbformat_minor": 0
}
