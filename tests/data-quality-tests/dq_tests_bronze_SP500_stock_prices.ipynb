{
 "cells": [
  {
   "cell_type": "markdown",
   "metadata": {
    "application/vnd.databricks.v1+cell": {
     "cellMetadata": {},
     "inputWidgets": {},
     "nuid": "5a7f65fd-6fcf-48d4-ba3a-844e7bf1947c",
     "showTitle": false,
     "tableResultSettingsMap": {},
     "title": ""
    }
   },
   "source": [
    "## Pipeline Parameters"
   ]
  },
  {
   "cell_type": "code",
   "execution_count": 0,
   "metadata": {
    "application/vnd.databricks.v1+cell": {
     "cellMetadata": {
      "byteLimit": 2048000,
      "rowLimit": 10000
     },
     "inputWidgets": {},
     "nuid": "6f500a0a-8114-47d8-90bf-364d87b92e59",
     "showTitle": false,
     "tableResultSettingsMap": {},
     "title": ""
    }
   },
   "outputs": [],
   "source": [
    "dbutils.widgets.text(\"input_load_date\", \"YYYY-MM-DD\", \"Input Load Date\")\n",
    "input_load_date = dbutils.widgets.get(\"input_load_date\")"
   ]
  },
  {
   "cell_type": "code",
   "execution_count": 0,
   "metadata": {
    "application/vnd.databricks.v1+cell": {
     "cellMetadata": {
      "byteLimit": 2048000,
      "rowLimit": 10000
     },
     "inputWidgets": {},
     "nuid": "0780771d-92b0-4cd1-a192-4ac3319fafe6",
     "showTitle": false,
     "tableResultSettingsMap": {},
     "title": ""
    }
   },
   "outputs": [],
   "source": [
    "# Standard library imports\n",
    "import os\n",
    "\n",
    "# Third-party library imports\n",
    "from dotenv import load_dotenv\n",
    "from pyspark.testing import assertDataFrameEqual"
   ]
  },
  {
   "cell_type": "code",
   "execution_count": 0,
   "metadata": {
    "application/vnd.databricks.v1+cell": {
     "cellMetadata": {
      "byteLimit": 2048000,
      "rowLimit": 10000
     },
     "inputWidgets": {},
     "nuid": "cf17b710-f82f-4d82-8ad7-8d63b5bcd5b9",
     "showTitle": false,
     "tableResultSettingsMap": {},
     "title": ""
    }
   },
   "outputs": [],
   "source": [
    "load_dotenv()\n",
    "\n",
    "catalog_name = os.getenv('DATABRICKS_CATALOG_NAME')\n",
    "schema_name = os.getenv('DATABRICKS_SCHEMA_NAME')"
   ]
  },
  {
   "cell_type": "code",
   "execution_count": 0,
   "metadata": {
    "application/vnd.databricks.v1+cell": {
     "cellMetadata": {
      "byteLimit": 2048000,
      "rowLimit": 10000
     },
     "inputWidgets": {},
     "nuid": "e3b8b51f-7273-4def-8a50-91738e80881f",
     "showTitle": false,
     "tableResultSettingsMap": {},
     "title": ""
    }
   },
   "outputs": [],
   "source": [
    "print(f'Validating data for date: {input_load_date}')\n",
    "dq_checks = spark.sql(\n",
    "    f\"\"\"\n",
    "    WITH data_quality_checks AS (\n",
    "    SELECT \n",
    "        -- Unique_identifier: ticker_symbol + trading_date\n",
    "        COUNT(DISTINCT ticker_symbol, trading_date) = COUNT(*) AS is_unique_check\n",
    "        -- All price columns should contain positive values\n",
    "        , COUNT(CASE WHEN open_price <= 0 OR close_price <= 0 OR highest_price <= 0 OR lowest_price <= 0 THEN 1 END) = 0 AS is_prices_postive_check\n",
    "    FROM {catalog_name}.{schema_name}.kdayno_bronze_SP500_stock_prices\n",
    "    WHERE trading_date = '{input_load_date}'\n",
    "    )\n",
    "\n",
    "    SELECT \n",
    "        is_unique_check AND is_prices_postive_check AS all_dq_checks_passed\n",
    "    FROM data_quality_checks\n",
    "    \"\"\")"
   ]
  },
  {
   "cell_type": "code",
   "execution_count": 0,
   "metadata": {
    "application/vnd.databricks.v1+cell": {
     "cellMetadata": {
      "byteLimit": 2048000,
      "rowLimit": 10000
     },
     "inputWidgets": {},
     "nuid": "c2097729-5e1b-46b3-8f9c-8c9025b40629",
     "showTitle": false,
     "tableResultSettingsMap": {},
     "title": ""
    }
   },
   "outputs": [],
   "source": [
    "expected_results = spark.createDataFrame(data=[(True,)], schema=['all_dq_checks_passed'])\n",
    "\n",
    "assertDataFrameEqual(expected_results, dq_checks)  # If successful, all data quality checks passed"
   ]
  },
  {
   "cell_type": "code",
   "execution_count": 0,
   "metadata": {
    "application/vnd.databricks.v1+cell": {
     "cellMetadata": {},
     "inputWidgets": {},
     "nuid": "11d8992f-47cb-4598-827b-07ed1a875922",
     "showTitle": false,
     "tableResultSettingsMap": {},
     "title": ""
    }
   },
   "outputs": [],
   "source": []
  }
 ],
 "metadata": {
  "application/vnd.databricks.v1+notebook": {
   "computePreferences": null,
   "dashboards": [],
   "environmentMetadata": {
    "base_environment": "",
    "environment_version": "2"
   },
   "language": "python",
   "notebookMetadata": {
    "pythonIndentUnit": 4
   },
   "notebookName": "dq_tests_bronze_SP500_stock_prices",
   "widgets": {
    "input_load_date": {
     "currentValue": "2025-02-03",
     "nuid": "3fa0ea39-3f00-46e4-91ac-f2fb2b3d3c78",
     "typedWidgetInfo": {
      "autoCreated": false,
      "defaultValue": "YYYY-MM-DD",
      "label": "Input Load Date",
      "name": "input_load_date",
      "options": {
       "widgetDisplayType": "Text",
       "validationRegex": null
      },
      "parameterDataType": "String"
     },
     "widgetInfo": {
      "widgetType": "text",
      "defaultValue": "YYYY-MM-DD",
      "label": "Input Load Date",
      "name": "input_load_date",
      "options": {
       "widgetType": "text",
       "autoCreated": null,
       "validationRegex": null
      }
     }
    }
   }
  },
  "language_info": {
   "name": "python"
  }
 },
 "nbformat": 4,
 "nbformat_minor": 0
}
