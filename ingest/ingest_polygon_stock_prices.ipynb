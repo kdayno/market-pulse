{
 "cells": [
  {
   "cell_type": "code",
   "execution_count": 0,
   "metadata": {
    "application/vnd.databricks.v1+cell": {
     "cellMetadata": {
      "byteLimit": 2048000,
      "rowLimit": 10000
     },
     "inputWidgets": {},
     "nuid": "db4385b8-a95a-456c-ac0b-c719f92b6e4f",
     "showTitle": false,
     "tableResultSettingsMap": {},
     "title": ""
    }
   },
   "outputs": [],
   "source": [
    "%run ./aws_secret_manager"
   ]
  },
  {
   "cell_type": "code",
   "execution_count": 0,
   "metadata": {
    "application/vnd.databricks.v1+cell": {
     "cellMetadata": {
      "byteLimit": 2048000,
      "rowLimit": 10000
     },
     "inputWidgets": {},
     "nuid": "bb3dbb5d-2abc-45e1-a3dd-b6ac5a6bfabe",
     "showTitle": false,
     "tableResultSettingsMap": {},
     "title": ""
    }
   },
   "outputs": [],
   "source": [
    "%pip install -r ../requirements.txt"
   ]
  },
  {
   "cell_type": "code",
   "execution_count": 0,
   "metadata": {
    "application/vnd.databricks.v1+cell": {
     "cellMetadata": {
      "byteLimit": 2048000,
      "rowLimit": 10000
     },
     "inputWidgets": {},
     "nuid": "776764db-2d5f-4894-aa6b-a2daddedfa3e",
     "showTitle": false,
     "tableResultSettingsMap": {},
     "title": ""
    }
   },
   "outputs": [],
   "source": [
    "# Standard library imports\n",
    "import csv\n",
    "import datetime as dt\n",
    "import os\n",
    "from ast import literal_eval\n",
    "\n",
    "# Third-party library imports\n",
    "import pyarrow as pa\n",
    "import requests as r\n",
    "from dotenv import load_dotenv\n",
    "from pyspark.sql.functions import cast, col, current_timestamp\n",
    "from pyspark.sql.types import (\n",
    "    DateType,\n",
    "    DecimalType,\n",
    "    DoubleType,\n",
    "    IntegerType,\n",
    "    StringType,\n",
    "    StructField,\n",
    "    StructType,\n",
    "    TimestampType\n",
    ")\n",
    "\n",
    "load_dotenv()\n",
    "\n",
    "raw_zone_path = os.getenv('RAW_ZONE_PATH')\n",
    "input_load_date = dt.datetime(2025, 2, 21)\n",
    "catalog_name = os.getenv('DATABRICKS_CATALOG_NAME')\n",
    "schema_name = os.getenv('DATABRICKS_SCHEMA_NAME')"
   ]
  },
  {
   "cell_type": "code",
   "execution_count": 0,
   "metadata": {
    "application/vnd.databricks.v1+cell": {
     "cellMetadata": {
      "byteLimit": 2048000,
      "rowLimit": 10000
     },
     "inputWidgets": {},
     "nuid": "33249bba-34ec-4c18-ba44-1fe9a6233912",
     "showTitle": false,
     "tableResultSettingsMap": {},
     "title": ""
    }
   },
   "outputs": [],
   "source": [
    "stock_price_schema = StructType([\n",
    "    StructField(\"ticker_symbol\", StringType(), True),\n",
    "    StructField(\"open_price\", StringType(), True),\n",
    "    StructField(\"close_price\", StringType(), True),\n",
    "    StructField(\"highest_price\", StringType(), True),\n",
    "    StructField(\"lowest_price\", StringType(), True),\n",
    "    StructField(\"trading_date\", DateType(), True)\n",
    "])"
   ]
  },
  {
   "cell_type": "code",
   "execution_count": 0,
   "metadata": {
    "application/vnd.databricks.v1+cell": {
     "cellMetadata": {
      "byteLimit": 2048000,
      "implicitDf": true,
      "rowLimit": 10000
     },
     "inputWidgets": {},
     "nuid": "23a30cef-4b80-416d-8045-3c157eeed6b1",
     "showTitle": false,
     "tableResultSettingsMap": {},
     "title": ""
    }
   },
   "outputs": [],
   "source": [
    "SP500_tickers = (spark.read.table(f'{catalog_name}.{schema_name}.kdayno_bronze_SP500_companies')\n",
    "                  .select('ticker_symbol')\n",
    "                )\n",
    "\n",
    "SP500_tickers_list = [row['ticker_symbol'] for row in SP500_tickers.collect()]"
   ]
  },
  {
   "cell_type": "markdown",
   "metadata": {
    "application/vnd.databricks.v1+cell": {
     "cellMetadata": {},
     "inputWidgets": {},
     "nuid": "c56142b9-3be6-4f79-977f-3da8a074f420",
     "showTitle": false,
     "tableResultSettingsMap": {},
     "title": ""
    }
   },
   "source": [
    "## Load Stock Price Data for S&P500 Companies"
   ]
  },
  {
   "cell_type": "code",
   "execution_count": 0,
   "metadata": {
    "application/vnd.databricks.v1+cell": {
     "cellMetadata": {
      "byteLimit": 2048000,
      "rowLimit": 10000
     },
     "inputWidgets": {},
     "nuid": "77e4f14d-f280-4ae8-a45a-7645f337ab4e",
     "showTitle": false,
     "tableResultSettingsMap": {},
     "title": ""
    }
   },
   "outputs": [],
   "source": [
    "polygon_api_key = literal_eval(get_secret(\"POLYGON_CREDENTIALS\"))['AWS_SECRET_ACCESS_KEY']\n",
    "\n",
    "next_day = input_load_date + dt.timedelta(days=1)\n",
    "\n",
    "current_date = input_load_date.strftime('%Y-%m-%d')\n",
    "next_day = next_day.strftime('%Y-%m-%d')\n",
    "\n",
    "print(f'Loading data for date: {current_date}')\n",
    "\n",
    "stock_data = {'ticker_symbol':[], 'open_price':[], 'close_price':[], 'highest_price':[], 'lowest_price':[], 'trading_date':[]}\n",
    "\n",
    "for stock in SP500_tickers_list:\n",
    "    polygon_url = f\"https://api.polygon.io/v2/aggs/ticker/{stock}/range/1/day/{current_date}/{next_day}?adjusted=true&sort=asc&apiKey=\"\n",
    "\n",
    "    data = r.get(f'{polygon_url}{polygon_api_key}').json()\n",
    "    print(f'Getting data for ticker: {stock} ...')\n",
    "\n",
    "    stock_data['ticker_symbol'].append(data['ticker'])\n",
    "    stock_data['open_price'].append(data['results'][0]['o'])\n",
    "    stock_data['close_price'].append(data['results'][0]['c'])\n",
    "    stock_data['highest_price'].append(data['results'][0]['h'])\n",
    "    stock_data['lowest_price'].append(data['results'][0]['l'])\n",
    "    stock_data['trading_date'].append(dt.datetime.fromtimestamp(data['results'][0]['t'] / 1000))\n",
    "\n",
    "stock_df = spark.createDataFrame(list(zip(*stock_data.values())), stock_price_schema)\n"
   ]
  },
  {
   "cell_type": "code",
   "execution_count": 0,
   "metadata": {
    "application/vnd.databricks.v1+cell": {
     "cellMetadata": {
      "byteLimit": 2048000,
      "rowLimit": 10000
     },
     "inputWidgets": {},
     "nuid": "0f4b53df-db9e-48f5-916b-499d11f1cafd",
     "showTitle": false,
     "tableResultSettingsMap": {},
     "title": ""
    }
   },
   "outputs": [],
   "source": [
    "stock_transformed_df = (stock_df.withColumn('open_price', col('open_price').cast('decimal(10,2)'))\n",
    "                                .withColumn('close_price', col('close_price').cast('decimal(10,2)'))\n",
    "                                .withColumn('highest_price', col('highest_price').cast('decimal(10,2)'))\n",
    "                                .withColumn('lowest_price', col('open_price').cast('decimal(10,2)'))\n",
    "                                .withColumn('load_date_ts', current_timestamp())\n",
    "                     )"
   ]
  },
  {
   "cell_type": "code",
   "execution_count": 0,
   "metadata": {
    "application/vnd.databricks.v1+cell": {
     "cellMetadata": {
      "byteLimit": 2048000,
      "rowLimit": 10000
     },
     "inputWidgets": {},
     "nuid": "7fb235c3-967b-4162-9acb-26d5c92d39ac",
     "showTitle": false,
     "tableResultSettingsMap": {},
     "title": ""
    }
   },
   "outputs": [],
   "source": [
    "spark.sql(f\"\"\"\n",
    "          DELETE FROM {catalog_name}.{schema_name}.kdayno_bronze_SP500_stock_prices\n",
    "          WHERE trading_date = '{input_load_date.strftime('%Y-%m-%d')}'\n",
    "          \"\"\")\n",
    "\n",
    "stock_transformed_df.write.mode(\"append\").format(\"delta\").saveAsTable(f'{catalog_name}.{schema_name}.kdayno_bronze_SP500_stock_prices')"
   ]
  },
  {
   "cell_type": "code",
   "execution_count": 0,
   "metadata": {
    "application/vnd.databricks.v1+cell": {
     "cellMetadata": {
      "byteLimit": 2048000,
      "rowLimit": 10000
     },
     "inputWidgets": {},
     "nuid": "67769afc-8688-44f1-9252-2318abe6c105",
     "showTitle": false,
     "tableResultSettingsMap": {},
     "title": ""
    }
   },
   "outputs": [],
   "source": []
  }
 ],
 "metadata": {
  "application/vnd.databricks.v1+notebook": {
   "computePreferences": null,
   "dashboards": [],
   "environmentMetadata": {
    "base_environment": "",
    "environment_version": "2"
   },
   "language": "python",
   "notebookMetadata": {
    "mostRecentlyExecutedCommandWithImplicitDF": {
     "commandId": 5124187497283416,
     "dataframes": [
      "_sqldf"
     ]
    },
    "pythonIndentUnit": 4
   },
   "notebookName": "ingest_polygon_stock_prices",
   "widgets": {}
  },
  "language_info": {
   "name": "python"
  }
 },
 "nbformat": 4,
 "nbformat_minor": 0
}
