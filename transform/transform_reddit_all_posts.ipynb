{
 "cells": [
  {
   "cell_type": "code",
   "execution_count": 0,
   "metadata": {
    "application/vnd.databricks.v1+cell": {
     "cellMetadata": {
      "byteLimit": 2048000,
      "rowLimit": 10000
     },
     "inputWidgets": {},
     "nuid": "ce2d1a17-a716-4834-ab40-a3f6fb574e39",
     "showTitle": false,
     "tableResultSettingsMap": {},
     "title": ""
    }
   },
   "outputs": [],
   "source": [
    "# Standard library imports\n",
    "import os\n",
    "\n",
    "# Third-party library imports\n",
    "from dotenv import load_dotenv"
   ]
  },
  {
   "cell_type": "code",
   "execution_count": 0,
   "metadata": {
    "application/vnd.databricks.v1+cell": {
     "cellMetadata": {
      "byteLimit": 2048000,
      "rowLimit": 10000
     },
     "inputWidgets": {},
     "nuid": "5b293fc2-5d72-443a-a0e6-8f8009ea1701",
     "showTitle": false,
     "tableResultSettingsMap": {},
     "title": ""
    }
   },
   "outputs": [],
   "source": [
    "load_dotenv()\n",
    "\n",
    "catalog_name = os.getenv('DATABRICKS_CATALOG_NAME')\n",
    "schema_name = os.getenv('DATABRICKS_SCHEMA_NAME')"
   ]
  },
  {
   "cell_type": "code",
   "execution_count": 0,
   "metadata": {
    "application/vnd.databricks.v1+cell": {
     "cellMetadata": {
      "byteLimit": 2048000,
      "rowLimit": 10000
     },
     "inputWidgets": {},
     "nuid": "a4e36d90-931b-408b-aeef-680982d817ee",
     "showTitle": false,
     "tableResultSettingsMap": {},
     "title": ""
    }
   },
   "outputs": [],
   "source": [
    "silver_reddit_all_posts_df = spark.sql(\n",
    "    f\"\"\" \n",
    "    WITH all_posts_with_sentiment AS (\n",
    "        SELECT * FROM {catalog_name}.{schema_name}.kdayno_silver_reddit_top_posts_sentiment\n",
    "        UNION ALL\n",
    "        SELECT * FROM {catalog_name}.{schema_name}.kdayno_silver_reddit_hot_posts_sentiment\n",
    "    ),\n",
    "\n",
    "    all_posts_with_sentiment_transformed AS (\n",
    "        SELECT \n",
    "            ticker_symbol\n",
    "            , post_id\n",
    "            , created_utc AS created_date_utc\n",
    "            , score AS number_of_upvotes\n",
    "            , ROUND((score * (1 - upvote_ratio)) / upvote_ratio) AS number_of_downvotes\n",
    "            , upvote_ratio\n",
    "            , (1 - upvote_ratio) as downvote_ratio\n",
    "            , num_comments AS number_of_comments\n",
    "            , sentiment AS sentiment_category\n",
    "            , sentiment_score\n",
    "        FROM all_posts_with_sentiment\n",
    "    ),\n",
    "\n",
    "    all_posts_with_company_info AS (\n",
    "        SELECT\n",
    "            p.*\n",
    "            , number_of_upvotes + number_of_downvotes AS total_number_of_votes\n",
    "            , c.company_name\n",
    "            , c.gics_sector\n",
    "            , c.gics_sub_industry\n",
    "        FROM all_posts_with_sentiment_transformed p\n",
    "        INNER JOIN {catalog_name}.{schema_name}.kdayno_bronze_sp500_companies c ON p.ticker_symbol = c.company_name\n",
    "    )\n",
    "\n",
    "    SELECT * FROM all_posts_with_company_info;\n",
    "    \"\"\")"
   ]
  },
  {
   "cell_type": "code",
   "execution_count": 0,
   "metadata": {
    "application/vnd.databricks.v1+cell": {
     "cellMetadata": {
      "byteLimit": 2048000,
      "rowLimit": 10000
     },
     "inputWidgets": {},
     "nuid": "2c5c8f0a-e0b0-4f18-b1e4-974bded1a2df",
     "showTitle": false,
     "tableResultSettingsMap": {},
     "title": ""
    }
   },
   "outputs": [],
   "source": [
    "spark.sql(f\"\"\"DELETE FROM {catalog_name}.{schema_name}.kdayno_silver_reddit_all_posts\"\"\")\n",
    "\n",
    "(silver_reddit_all_posts_df.write.format(\"delta\")\n",
    "                           .mode(\"append\")\n",
    "                           .partitionBy('created_date_utc')\n",
    "                           .saveAsTable(f'{catalog_name}.{schema_name}.kdayno_silver_reddit_all_posts'))"
   ]
  },
  {
   "cell_type": "code",
   "execution_count": 0,
   "metadata": {
    "application/vnd.databricks.v1+cell": {
     "cellMetadata": {},
     "inputWidgets": {},
     "nuid": "3cbdbd60-000e-4e43-9b4e-1e6f1e3c51b7",
     "showTitle": false,
     "tableResultSettingsMap": {},
     "title": ""
    }
   },
   "outputs": [],
   "source": []
  }
 ],
 "metadata": {
  "application/vnd.databricks.v1+notebook": {
   "computePreferences": null,
   "dashboards": [],
   "environmentMetadata": {
    "base_environment": "",
    "environment_version": "2"
   },
   "language": "python",
   "notebookMetadata": {
    "mostRecentlyExecutedCommandWithImplicitDF": {
     "commandId": 6368848666130892,
     "dataframes": [
      "_sqldf"
     ]
    },
    "pythonIndentUnit": 4
   },
   "notebookName": "transform_reddit_all_posts",
   "widgets": {}
  },
  "language_info": {
   "name": "python"
  }
 },
 "nbformat": 4,
 "nbformat_minor": 0
}
