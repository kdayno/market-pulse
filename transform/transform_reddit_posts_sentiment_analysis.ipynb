{
 "cells": [
  {
   "cell_type": "code",
   "execution_count": 0,
   "metadata": {
    "application/vnd.databricks.v1+cell": {
     "cellMetadata": {
      "byteLimit": 2048000,
      "rowLimit": 10000
     },
     "inputWidgets": {},
     "nuid": "40990817-72ce-474b-a920-9e00a3fbcae4",
     "showTitle": false,
     "tableResultSettingsMap": {},
     "title": ""
    }
   },
   "outputs": [],
   "source": [
    "# Standard library imports\n",
    "import os\n",
    "\n",
    "# Third-party library imports\n",
    "from dotenv import load_dotenv\n",
    "from transformers import AutoTokenizer, AutoModelForSequenceClassification, pipeline\n",
    "from pyspark.sql.functions import udf, col\n",
    "from pyspark.sql.types import StringType, StructType, StructField, FloatType\n",
    "\n",
    "load_dotenv()"
   ]
  },
  {
   "cell_type": "code",
   "execution_count": 0,
   "metadata": {
    "application/vnd.databricks.v1+cell": {
     "cellMetadata": {
      "byteLimit": 2048000,
      "rowLimit": 10000
     },
     "inputWidgets": {},
     "nuid": "247989c7-2817-446e-9365-f58eca1595f7",
     "showTitle": false,
     "tableResultSettingsMap": {},
     "title": ""
    }
   },
   "outputs": [],
   "source": [
    "catalog_name = os.getenv('DATABRICKS_CATALOG_NAME')\n",
    "schema_name = os.getenv('DATABRICKS_SCHEMA_NAME')"
   ]
  },
  {
   "cell_type": "code",
   "execution_count": 0,
   "metadata": {
    "application/vnd.databricks.v1+cell": {
     "cellMetadata": {
      "byteLimit": 2048000,
      "rowLimit": 10000
     },
     "inputWidgets": {},
     "nuid": "995ffd02-613b-4119-ba57-8e36090e8769",
     "showTitle": false,
     "tableResultSettingsMap": {},
     "title": ""
    }
   },
   "outputs": [],
   "source": [
    "# Load the FinBERT model and tokenizer\n",
    "model_name = \"ProsusAI/finbert\"\n",
    "model = AutoModelForSequenceClassification.from_pretrained(model_name)\n",
    "tokenizer = AutoTokenizer.from_pretrained(model_name)\n",
    "classifier = pipeline('text-classification', model=model, tokenizer=tokenizer)\n",
    "\n",
    "# Create a UDF for sentiment analysis\n",
    "@udf(returnType=StructType([\n",
    "    StructField(\"sentiment\", StringType(), True),\n",
    "    StructField(\"sentiment_score\", FloatType(), True)\n",
    "]))\n",
    "\n",
    "def sentiment_analysis_udf(text):\n",
    "    result = classifier(text)[0]\n",
    "    return (result['label'], float(result['score']))"
   ]
  },
  {
   "cell_type": "markdown",
   "metadata": {
    "application/vnd.databricks.v1+cell": {
     "cellMetadata": {},
     "inputWidgets": {},
     "nuid": "3076dea0-947b-4de5-a2e6-04473f29e407",
     "showTitle": false,
     "tableResultSettingsMap": {},
     "title": ""
    }
   },
   "source": [
    "## Sentiment Analysis of Reddit \"Top\" Posts"
   ]
  },
  {
   "cell_type": "code",
   "execution_count": 0,
   "metadata": {
    "application/vnd.databricks.v1+cell": {
     "cellMetadata": {
      "byteLimit": 2048000,
      "rowLimit": 10000
     },
     "inputWidgets": {},
     "nuid": "d7565a13-cf1d-4854-949c-b2b2e8ff3075",
     "showTitle": false,
     "tableResultSettingsMap": {},
     "title": ""
    }
   },
   "outputs": [],
   "source": [
    "# Apply the UDF and generate sentiment analysis results for \"Top\" posts\n",
    "reddit_top_posts_df = spark.table(f\"{catalog_name}.{schema_name}.kdayno_bronze_reddit_top_posts\")\n",
    "\n",
    "reddit_top_posts_sentiment_df = reddit_top_posts_df.withColumn(\"post_title_sentiment_result\", sentiment_analysis_udf(col('post_title')))\n",
    "reddit_top_posts_sentiment_df = reddit_top_posts_sentiment_df.select(\"*\", \"post_title_sentiment_result.*\")"
   ]
  },
  {
   "cell_type": "code",
   "execution_count": 0,
   "metadata": {
    "application/vnd.databricks.v1+cell": {
     "cellMetadata": {
      "byteLimit": 2048000,
      "rowLimit": 10000
     },
     "inputWidgets": {},
     "nuid": "30fbc738-d3c1-48d4-91bc-2db6087a3234",
     "showTitle": false,
     "tableResultSettingsMap": {},
     "title": ""
    }
   },
   "outputs": [],
   "source": [
    "(reddit_top_posts_sentiment_df.write.format(\"delta\")\n",
    "                                    .mode(\"overwrite\")\n",
    "                                    .partitionBy('subreddit')\n",
    "                                    .saveAsTable(f\"{catalog_name}.{schema_name}.kdayno_silver_reddit_top_posts_sentiment\"))"
   ]
  },
  {
   "cell_type": "markdown",
   "metadata": {
    "application/vnd.databricks.v1+cell": {
     "cellMetadata": {},
     "inputWidgets": {},
     "nuid": "35a2f896-8788-412b-957a-39d0d02af580",
     "showTitle": false,
     "tableResultSettingsMap": {},
     "title": ""
    }
   },
   "source": [
    "## Sentiment Analysis of Reddit \"Hot\" Posts"
   ]
  },
  {
   "cell_type": "code",
   "execution_count": 0,
   "metadata": {
    "application/vnd.databricks.v1+cell": {
     "cellMetadata": {},
     "inputWidgets": {},
     "nuid": "d26cf3c6-308a-4fd0-a454-f67653945803",
     "showTitle": false,
     "tableResultSettingsMap": {},
     "title": ""
    }
   },
   "outputs": [],
   "source": [
    "# Apply the UDF and generate sentiment analysis results for \"Hot\" posts\n",
    "reddit_hot_posts_df = spark.table(f\"{catalog_name}.{schema_name}.kdayno_bronze_reddit_hot_posts\")\n",
    "\n",
    "reddit_hot_posts_sentiment_df = reddit_hot_posts_df.withColumn(\"post_title_sentiment_result\", sentiment_analysis_udf(col('post_title')))\n",
    "reddit_hot_posts_sentiment_df = reddit_hot_posts_sentiment_df.select(\"*\", \"post_title_sentiment_result.*\")"
   ]
  },
  {
   "cell_type": "code",
   "execution_count": 0,
   "metadata": {
    "application/vnd.databricks.v1+cell": {
     "cellMetadata": {},
     "inputWidgets": {},
     "nuid": "e7b4956c-baae-4567-8d14-9a634fcc58b3",
     "showTitle": false,
     "tableResultSettingsMap": {},
     "title": ""
    }
   },
   "outputs": [],
   "source": [
    "(reddit_hot_posts_sentiment_df.write.format(\"delta\")\n",
    "                                    .mode(\"overwrite\")\n",
    "                                    .partitionBy('subreddit')\n",
    "                                    .saveAsTable(f\"{catalog_name}.{schema_name}.kdayno_silver_reddit_hot_posts_sentiment\"))"
   ]
  },
  {
   "cell_type": "code",
   "execution_count": 0,
   "metadata": {
    "application/vnd.databricks.v1+cell": {
     "cellMetadata": {},
     "inputWidgets": {},
     "nuid": "2db4d6d7-b7ba-4b94-a82b-81ea87cb022a",
     "showTitle": false,
     "tableResultSettingsMap": {},
     "title": ""
    }
   },
   "outputs": [],
   "source": []
  }
 ],
 "metadata": {
  "application/vnd.databricks.v1+notebook": {
   "computePreferences": null,
   "dashboards": [],
   "environmentMetadata": {
    "base_environment": "",
    "environment_version": "2"
   },
   "language": "python",
   "notebookMetadata": {
    "mostRecentlyExecutedCommandWithImplicitDF": {
     "commandId": 6368848666126744,
     "dataframes": [
      "_sqldf"
     ]
    },
    "pythonIndentUnit": 4
   },
   "notebookName": "transform_reddit_posts_sentiment_analysis",
   "widgets": {}
  },
  "language_info": {
   "name": "python"
  }
 },
 "nbformat": 4,
 "nbformat_minor": 0
}
