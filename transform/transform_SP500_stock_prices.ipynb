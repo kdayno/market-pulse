{
 "cells": [
  {
   "cell_type": "code",
   "execution_count": 0,
   "metadata": {
    "application/vnd.databricks.v1+cell": {
     "cellMetadata": {
      "byteLimit": 2048000,
      "rowLimit": 10000
     },
     "inputWidgets": {},
     "nuid": "3d021c22-2cf9-4c92-ba11-b904a128a5de",
     "showTitle": false,
     "tableResultSettingsMap": {},
     "title": ""
    }
   },
   "outputs": [],
   "source": [
    "dbutils.widgets.text(\"input_load_date\", \"YYYY-MM-DD\", \"Input Load Date\")"
   ]
  },
  {
   "cell_type": "code",
   "execution_count": 0,
   "metadata": {
    "application/vnd.databricks.v1+cell": {
     "cellMetadata": {
      "byteLimit": 2048000,
      "rowLimit": 10000
     },
     "inputWidgets": {},
     "nuid": "ce2d1a17-a716-4834-ab40-a3f6fb574e39",
     "showTitle": false,
     "tableResultSettingsMap": {},
     "title": ""
    }
   },
   "outputs": [],
   "source": [
    "# Standard library imports\n",
    "import os\n",
    "\n",
    "# Third-party library imports\n",
    "from dotenv import load_dotenv"
   ]
  },
  {
   "cell_type": "code",
   "execution_count": 0,
   "metadata": {
    "application/vnd.databricks.v1+cell": {
     "cellMetadata": {
      "byteLimit": 2048000,
      "rowLimit": 10000
     },
     "inputWidgets": {},
     "nuid": "5b293fc2-5d72-443a-a0e6-8f8009ea1701",
     "showTitle": false,
     "tableResultSettingsMap": {},
     "title": ""
    }
   },
   "outputs": [],
   "source": [
    "load_dotenv()\n",
    "\n",
    "input_load_date = dbutils.widgets.get(\"input_load_date\")\n",
    "\n",
    "catalog_name = os.getenv('DATABRICKS_CATALOG_NAME')\n",
    "schema_name = os.getenv('DATABRICKS_SCHEMA_NAME')"
   ]
  },
  {
   "cell_type": "code",
   "execution_count": 0,
   "metadata": {
    "application/vnd.databricks.v1+cell": {
     "cellMetadata": {
      "byteLimit": 2048000,
      "rowLimit": 10000
     },
     "inputWidgets": {},
     "nuid": "a2f00791-d225-4098-a83d-e2e61009d32d",
     "showTitle": false,
     "tableResultSettingsMap": {},
     "title": ""
    }
   },
   "outputs": [],
   "source": [
    "silver_SP500_stock_prices_df = spark.sql(\n",
    "    f\"\"\"\n",
    "    WITH silver_SP500_stock_prices AS (\n",
    "    SELECT sp.ticker_symbol\n",
    "            , c.company_name\n",
    "            , c.gics_sector\n",
    "            , c.gics_sub_industry\n",
    "            , sp.open_price\n",
    "            , sp.close_price\n",
    "            , sp.highest_price\n",
    "            , sp.lowest_price\n",
    "            , sp.trading_date\n",
    "    FROM tabular.dataexpert.kdayno_bronze_SP500_stock_prices sp\n",
    "    INNER JOIN  {catalog_name}.{schema_name}.kdayno_bronze_sp500_companies c ON sp.ticker_symbol = c.ticker_symbol)\n",
    "    \n",
    "    SELECT * \n",
    "    FROM silver_SP500_stock_prices \n",
    "    WHERE trading_date = '{input_load_date}'                        \n",
    "    \"\"\")\n"
   ]
  },
  {
   "cell_type": "code",
   "execution_count": 0,
   "metadata": {
    "application/vnd.databricks.v1+cell": {
     "cellMetadata": {
      "byteLimit": 2048000,
      "rowLimit": 10000
     },
     "inputWidgets": {},
     "nuid": "2c5c8f0a-e0b0-4f18-b1e4-974bded1a2df",
     "showTitle": false,
     "tableResultSettingsMap": {},
     "title": ""
    }
   },
   "outputs": [],
   "source": [
    "spark.sql(f\"\"\"\n",
    "        DELETE FROM {catalog_name}.{schema_name}.kdayno_silver_SP500_stock_prices\n",
    "        WHERE trading_date = '{input_load_date}'\n",
    "        \"\"\")\n",
    "\n",
    "(silver_SP500_stock_prices_df.write.format(\"delta\")\n",
    "                           .mode(\"append\")\n",
    "                           .partitionBy('trading_date')\n",
    "                           .saveAsTable(f'{catalog_name}.{schema_name}.kdayno_silver_SP500_stock_prices'))\n"
   ]
  },
  {
   "cell_type": "code",
   "execution_count": 0,
   "metadata": {
    "application/vnd.databricks.v1+cell": {
     "cellMetadata": {},
     "inputWidgets": {},
     "nuid": "7a79401a-bd0c-484a-b827-f7fe18fe3311",
     "showTitle": false,
     "tableResultSettingsMap": {},
     "title": ""
    }
   },
   "outputs": [],
   "source": []
  }
 ],
 "metadata": {
  "application/vnd.databricks.v1+notebook": {
   "computePreferences": null,
   "dashboards": [],
   "environmentMetadata": {
    "base_environment": "",
    "environment_version": "2"
   },
   "language": "python",
   "notebookMetadata": {
    "mostRecentlyExecutedCommandWithImplicitDF": {
     "commandId": 6368848666130899,
     "dataframes": [
      "_sqldf"
     ]
    },
    "pythonIndentUnit": 4
   },
   "notebookName": "transform_SP500_stock_prices",
   "widgets": {
    "input_load_date": {
     "currentValue": "2025-02-03",
     "nuid": "f5d8f07b-c663-46bd-bdda-587b775e0355",
     "typedWidgetInfo": {
      "autoCreated": false,
      "defaultValue": "YYYY-MM-DD",
      "label": "Input Load Date",
      "name": "input_load_date",
      "options": {
       "widgetDisplayType": "Text",
       "validationRegex": null
      },
      "parameterDataType": "String"
     },
     "widgetInfo": {
      "widgetType": "text",
      "defaultValue": "YYYY-MM-DD",
      "label": "Input Load Date",
      "name": "input_load_date",
      "options": {
       "widgetType": "text",
       "autoCreated": null,
       "validationRegex": null
      }
     }
    }
   }
  },
  "language_info": {
   "name": "python"
  }
 },
 "nbformat": 4,
 "nbformat_minor": 0
}
