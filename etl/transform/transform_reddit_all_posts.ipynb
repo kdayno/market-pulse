{
 "cells": [
  {
   "cell_type": "markdown",
   "metadata": {
    "application/vnd.databricks.v1+cell": {
     "cellMetadata": {
      "byteLimit": 2048000,
      "rowLimit": 10000
     },
     "inputWidgets": {},
     "nuid": "1d204f36-9b0a-42cd-81a6-860b3fe65ce9",
     "showTitle": false,
     "tableResultSettingsMap": {},
     "title": ""
    }
   },
   "source": [
    "## Pipeline Parameters"
   ]
  },
  {
   "cell_type": "code",
   "execution_count": 0,
   "metadata": {
    "application/vnd.databricks.v1+cell": {
     "cellMetadata": {
      "byteLimit": 2048000,
      "rowLimit": 10000
     },
     "inputWidgets": {},
     "nuid": "0e9dec89-e928-4c2d-8252-5e105f8a047b",
     "showTitle": false,
     "tableResultSettingsMap": {},
     "title": ""
    }
   },
   "outputs": [],
   "source": [
    "# Audit Parameters\n",
    "dbutils.widgets.text(\"job_id\", \"\")\n",
    "dbutils.widgets.text(\"job_name\", \"\")\n",
    "dbutils.widgets.text(\"job_start_date\", \"\")\n",
    "dbutils.widgets.text(\"job_start_datetime\", \"\")\n",
    "dbutils.widgets.text(\"task_run_id\", \"\")\n",
    "dbutils.widgets.text(\"task_name\", \"\")"
   ]
  },
  {
   "cell_type": "code",
   "execution_count": 0,
   "metadata": {
    "application/vnd.databricks.v1+cell": {
     "cellMetadata": {
      "byteLimit": 2048000,
      "rowLimit": 10000
     },
     "inputWidgets": {},
     "nuid": "36f330b5-19f7-4882-95ee-12ac43163080",
     "showTitle": false,
     "tableResultSettingsMap": {},
     "title": ""
    }
   },
   "outputs": [],
   "source": [
    "%run ../utils/loggers"
   ]
  },
  {
   "cell_type": "code",
   "execution_count": 0,
   "metadata": {
    "application/vnd.databricks.v1+cell": {
     "cellMetadata": {
      "byteLimit": 2048000,
      "rowLimit": 10000
     },
     "inputWidgets": {},
     "nuid": "ce2d1a17-a716-4834-ab40-a3f6fb574e39",
     "showTitle": false,
     "tableResultSettingsMap": {},
     "title": ""
    }
   },
   "outputs": [],
   "source": [
    "# Standard library imports\n",
    "import os\n",
    "\n",
    "# Third-party library imports\n",
    "from dotenv import load_dotenv\n",
    "from pyspark.sql.functions import concat"
   ]
  },
  {
   "cell_type": "code",
   "execution_count": 0,
   "metadata": {
    "application/vnd.databricks.v1+cell": {
     "cellMetadata": {
      "byteLimit": 2048000,
      "rowLimit": 10000
     },
     "inputWidgets": {},
     "nuid": "5b293fc2-5d72-443a-a0e6-8f8009ea1701",
     "showTitle": false,
     "tableResultSettingsMap": {},
     "title": ""
    }
   },
   "outputs": [],
   "source": [
    "load_dotenv()\n",
    "\n",
    "catalog_name = os.getenv('DATABRICKS_CATALOG_NAME')\n",
    "schema_name = os.getenv('DATABRICKS_SCHEMA_NAME')\n",
    "\n",
    "source_table_name = ['kdayno_silver_reddit_top_posts_sentiment'\n",
    "                     , 'kdayno_silver_reddit_hot_posts_sentiment'\n",
    "                     , 'kdayno_bronze_sp500_companies']\n",
    "target_table_name = 'kdayno_silver_reddit_all_posts'\n",
    "\n",
    "# Audit Variables\n",
    "job_id = dbutils.widgets.get('job_id')\n",
    "job_name = dbutils.widgets.get('job_name')\n",
    "job_start_date = dbutils.widgets.get('job_start_date')\n",
    "job_start_datetime = dbutils.widgets.get('job_start_datetime')\n",
    "task_run_id = dbutils.widgets.get('task_run_id')\n",
    "task_name = dbutils.widgets.get('task_name')"
   ]
  },
  {
   "cell_type": "markdown",
   "metadata": {
    "application/vnd.databricks.v1+cell": {
     "cellMetadata": {
      "byteLimit": 2048000,
      "rowLimit": 10000
     },
     "inputWidgets": {},
     "nuid": "660bbccd-f253-4baa-9685-bd6b4ca11e15",
     "showTitle": false,
     "tableResultSettingsMap": {},
     "title": ""
    }
   },
   "source": [
    "## Pipeline Audit"
   ]
  },
  {
   "cell_type": "code",
   "execution_count": 0,
   "metadata": {
    "application/vnd.databricks.v1+cell": {
     "cellMetadata": {
      "byteLimit": 2048000,
      "rowLimit": 10000
     },
     "inputWidgets": {},
     "nuid": "44df256c-07a0-471e-9bd0-b4d625447b98",
     "showTitle": false,
     "tableResultSettingsMap": {},
     "title": ""
    }
   },
   "outputs": [],
   "source": [
    "audit_logger(job_id, job_name, 'None', job_start_date, job_start_datetime, task_run_id,  task_name, source_table_name, target_table_name)\n",
    "\n",
    "etl_logger = etl_logger()"
   ]
  },
  {
   "cell_type": "code",
   "execution_count": 0,
   "metadata": {
    "application/vnd.databricks.v1+cell": {
     "cellMetadata": {
      "byteLimit": 2048000,
      "rowLimit": 10000
     },
     "inputWidgets": {},
     "nuid": "a4e36d90-931b-408b-aeef-680982d817ee",
     "showTitle": false,
     "tableResultSettingsMap": {},
     "title": ""
    }
   },
   "outputs": [],
   "source": [
    "silver_reddit_all_posts_df = spark.sql(\n",
    "    f\"\"\" \n",
    "    WITH all_posts_with_sentiment AS (\n",
    "        SELECT *, 'top' AS post_category FROM {catalog_name}.{schema_name}.{source_table_name[0]}\n",
    "        UNION ALL\n",
    "        SELECT *, 'hot' AS post_category FROM {catalog_name}.{schema_name}.{source_table_name[1]}\n",
    "    ),\n",
    "\n",
    "    all_posts_with_sentiment_transformed AS (\n",
    "        SELECT \n",
    "            company_name\n",
    "            , post_id\n",
    "            , post_category\n",
    "            , CONCAT('r/', subreddit) AS subreddit\n",
    "            , created_utc AS created_date_utc\n",
    "            , score AS number_of_upvotes\n",
    "            , ROUND((score * (1 - upvote_ratio)) / upvote_ratio) AS number_of_downvotes\n",
    "            , upvote_ratio\n",
    "            , (1 - upvote_ratio) as downvote_ratio\n",
    "            , num_comments AS number_of_comments\n",
    "            , sentiment AS sentiment_category\n",
    "            , sentiment_score\n",
    "        FROM all_posts_with_sentiment\n",
    "    ),\n",
    "\n",
    "    all_posts_with_company_info AS (\n",
    "        SELECT\n",
    "            p.*\n",
    "            , c.ticker_symbol\n",
    "            , number_of_upvotes + number_of_downvotes AS total_number_of_votes\n",
    "            , c.gics_sector\n",
    "            , c.gics_sub_industry\n",
    "        FROM all_posts_with_sentiment_transformed p\n",
    "        INNER JOIN {catalog_name}.{schema_name}.{source_table_name[2]} c ON p.company_name = c.company_name\n",
    "    )\n",
    "\n",
    "    SELECT * FROM all_posts_with_company_info;\n",
    "    \"\"\")"
   ]
  },
  {
   "cell_type": "code",
   "execution_count": 0,
   "metadata": {
    "application/vnd.databricks.v1+cell": {
     "cellMetadata": {
      "byteLimit": 2048000,
      "rowLimit": 10000
     },
     "inputWidgets": {},
     "nuid": "2c5c8f0a-e0b0-4f18-b1e4-974bded1a2df",
     "showTitle": false,
     "tableResultSettingsMap": {},
     "title": ""
    }
   },
   "outputs": [],
   "source": [
    "etl_logger.info(f'Loading: {silver_reddit_all_posts_df.count()} rows to: {target_table_name}')\n",
    "\n",
    "(silver_reddit_all_posts_df.write.format(\"delta\")\n",
    "                           .mode(\"overwrite\")\n",
    "                           .partitionBy('created_date_utc')\n",
    "                           .saveAsTable(f'{catalog_name}.{schema_name}.{target_table_name}'))"
   ]
  },
  {
   "cell_type": "code",
   "execution_count": 0,
   "metadata": {
    "application/vnd.databricks.v1+cell": {
     "cellMetadata": {
      "byteLimit": 2048000,
      "rowLimit": 10000
     },
     "inputWidgets": {},
     "nuid": "bef0e4fb-c148-450b-b762-7d31aef19511",
     "showTitle": false,
     "tableResultSettingsMap": {},
     "title": ""
    }
   },
   "outputs": [],
   "source": []
  }
 ],
 "metadata": {
  "application/vnd.databricks.v1+notebook": {
   "computePreferences": null,
   "dashboards": [],
   "environmentMetadata": {
    "base_environment": "",
    "environment_version": "2"
   },
   "language": "python",
   "notebookMetadata": {
    "mostRecentlyExecutedCommandWithImplicitDF": {
     "commandId": 6288841831500888,
     "dataframes": [
      "_sqldf"
     ]
    },
    "pythonIndentUnit": 4
   },
   "notebookName": "transform_reddit_all_posts",
   "widgets": {
    "job_id": {
     "currentValue": "",
     "nuid": "e2eab726-ec57-452c-a273-6ba052daecf7",
     "typedWidgetInfo": {
      "autoCreated": false,
      "defaultValue": "",
      "label": null,
      "name": "job_id",
      "options": {
       "widgetDisplayType": "Text",
       "validationRegex": null
      },
      "parameterDataType": "String"
     },
     "widgetInfo": {
      "widgetType": "text",
      "defaultValue": "",
      "label": null,
      "name": "job_id",
      "options": {
       "widgetType": "text",
       "autoCreated": null,
       "validationRegex": null
      }
     }
    },
    "job_name": {
     "currentValue": "",
     "nuid": "95b20920-21e9-45d4-bf64-307ddab4976b",
     "typedWidgetInfo": {
      "autoCreated": false,
      "defaultValue": "",
      "label": null,
      "name": "job_name",
      "options": {
       "widgetDisplayType": "Text",
       "validationRegex": null
      },
      "parameterDataType": "String"
     },
     "widgetInfo": {
      "widgetType": "text",
      "defaultValue": "",
      "label": null,
      "name": "job_name",
      "options": {
       "widgetType": "text",
       "autoCreated": null,
       "validationRegex": null
      }
     }
    },
    "job_start_date": {
     "currentValue": "",
     "nuid": "59dcfb3b-195c-4b6f-be7a-a33f0fb5e90f",
     "typedWidgetInfo": {
      "autoCreated": false,
      "defaultValue": "",
      "label": null,
      "name": "job_start_date",
      "options": {
       "widgetDisplayType": "Text",
       "validationRegex": null
      },
      "parameterDataType": "String"
     },
     "widgetInfo": {
      "widgetType": "text",
      "defaultValue": "",
      "label": null,
      "name": "job_start_date",
      "options": {
       "widgetType": "text",
       "autoCreated": null,
       "validationRegex": null
      }
     }
    },
    "job_start_datetime": {
     "currentValue": "",
     "nuid": "c7226c77-2f1c-4e6a-8c2f-603b3c74a418",
     "typedWidgetInfo": {
      "autoCreated": false,
      "defaultValue": "",
      "label": null,
      "name": "job_start_datetime",
      "options": {
       "widgetDisplayType": "Text",
       "validationRegex": null
      },
      "parameterDataType": "String"
     },
     "widgetInfo": {
      "widgetType": "text",
      "defaultValue": "",
      "label": null,
      "name": "job_start_datetime",
      "options": {
       "widgetType": "text",
       "autoCreated": null,
       "validationRegex": null
      }
     }
    },
    "task_name": {
     "currentValue": "",
     "nuid": "8441dcde-8786-4939-9e90-680897c60674",
     "typedWidgetInfo": {
      "autoCreated": false,
      "defaultValue": "",
      "label": null,
      "name": "task_name",
      "options": {
       "widgetDisplayType": "Text",
       "validationRegex": null
      },
      "parameterDataType": "String"
     },
     "widgetInfo": {
      "widgetType": "text",
      "defaultValue": "",
      "label": null,
      "name": "task_name",
      "options": {
       "widgetType": "text",
       "autoCreated": null,
       "validationRegex": null
      }
     }
    },
    "task_run_id": {
     "currentValue": "",
     "nuid": "5cacd352-09c4-4374-89ad-4b3cf29690bc",
     "typedWidgetInfo": {
      "autoCreated": false,
      "defaultValue": "",
      "label": null,
      "name": "task_run_id",
      "options": {
       "widgetDisplayType": "Text",
       "validationRegex": null
      },
      "parameterDataType": "String"
     },
     "widgetInfo": {
      "widgetType": "text",
      "defaultValue": "",
      "label": null,
      "name": "task_run_id",
      "options": {
       "widgetType": "text",
       "autoCreated": null,
       "validationRegex": null
      }
     }
    }
   }
  },
  "language_info": {
   "name": "python"
  }
 },
 "nbformat": 4,
 "nbformat_minor": 0
}
