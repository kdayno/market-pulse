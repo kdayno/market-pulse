{
 "cells": [
  {
   "cell_type": "markdown",
   "metadata": {
    "application/vnd.databricks.v1+cell": {
     "cellMetadata": {},
     "inputWidgets": {},
     "nuid": "5b191eb4-bf7c-4b17-9538-27fba05505e7",
     "showTitle": false,
     "tableResultSettingsMap": {},
     "title": ""
    }
   },
   "source": [
    "## Pipeline Parameters"
   ]
  },
  {
   "cell_type": "code",
   "execution_count": 0,
   "metadata": {
    "application/vnd.databricks.v1+cell": {
     "cellMetadata": {
      "byteLimit": 2048000,
      "rowLimit": 10000
     },
     "inputWidgets": {},
     "nuid": "3d021c22-2cf9-4c92-ba11-b904a128a5de",
     "showTitle": false,
     "tableResultSettingsMap": {},
     "title": ""
    }
   },
   "outputs": [],
   "source": [
    "dbutils.widgets.text(\"input_load_date\", \"YYYY-MM-DD\", \"Input Load Date\")\n",
    "\n",
    "# Audit Parameters\n",
    "dbutils.widgets.text(\"job_id\", \"\")\n",
    "dbutils.widgets.text(\"job_name\", \"\")\n",
    "dbutils.widgets.text(\"job_start_date\", \"\")\n",
    "dbutils.widgets.text(\"job_start_datetime\", \"\")\n",
    "dbutils.widgets.text(\"task_run_id\", \"\")\n",
    "dbutils.widgets.text(\"task_name\", \"\")"
   ]
  },
  {
   "cell_type": "code",
   "execution_count": 0,
   "metadata": {
    "application/vnd.databricks.v1+cell": {
     "cellMetadata": {
      "byteLimit": 2048000,
      "rowLimit": 10000
     },
     "inputWidgets": {},
     "nuid": "ae03cb64-c326-44b4-bc06-dda5aeca80bc",
     "showTitle": false,
     "tableResultSettingsMap": {},
     "title": ""
    }
   },
   "outputs": [],
   "source": [
    "%run ../utils/audit_logger"
   ]
  },
  {
   "cell_type": "code",
   "execution_count": 0,
   "metadata": {
    "application/vnd.databricks.v1+cell": {
     "cellMetadata": {
      "byteLimit": 2048000,
      "rowLimit": 10000
     },
     "inputWidgets": {},
     "nuid": "ce2d1a17-a716-4834-ab40-a3f6fb574e39",
     "showTitle": false,
     "tableResultSettingsMap": {},
     "title": ""
    }
   },
   "outputs": [],
   "source": [
    "# Standard library imports\n",
    "import os\n",
    "import datetime as dt\n",
    "\n",
    "# Third-party library imports\n",
    "from dotenv import load_dotenv"
   ]
  },
  {
   "cell_type": "code",
   "execution_count": 0,
   "metadata": {
    "application/vnd.databricks.v1+cell": {
     "cellMetadata": {
      "byteLimit": 2048000,
      "rowLimit": 10000
     },
     "inputWidgets": {},
     "nuid": "5b293fc2-5d72-443a-a0e6-8f8009ea1701",
     "showTitle": false,
     "tableResultSettingsMap": {},
     "title": ""
    }
   },
   "outputs": [],
   "source": [
    "load_dotenv()\n",
    "\n",
    "input_load_date = dbutils.widgets.get(\"input_load_date\")\n",
    "\n",
    "catalog_name = os.getenv('DATABRICKS_CATALOG_NAME')\n",
    "schema_name = os.getenv('DATABRICKS_SCHEMA_NAME')\n",
    "\n",
    "source_table_name = ['kdayno_bronze_SP500_stock_prices', 'kdayno_bronze_sp500_companies']\n",
    "target_table_name = 'kdayno_silver_SP500_stock_prices'\n",
    "\n",
    "# Audit Variables\n",
    "job_id = dbutils.widgets.get('job_id')\n",
    "job_name = dbutils.widgets.get('job_name')\n",
    "job_start_date = dbutils.widgets.get('job_start_date')\n",
    "job_start_datetime = dbutils.widgets.get('job_start_datetime')\n",
    "task_run_id = dbutils.widgets.get('task_run_id')\n",
    "task_name = dbutils.widgets.get('task_name')"
   ]
  },
  {
   "cell_type": "markdown",
   "metadata": {
    "application/vnd.databricks.v1+cell": {
     "cellMetadata": {},
     "inputWidgets": {},
     "nuid": "0e00e715-764e-40a2-a24f-b146a0ab8e7e",
     "showTitle": false,
     "tableResultSettingsMap": {},
     "title": ""
    }
   },
   "source": [
    "## Pipeline Audit"
   ]
  },
  {
   "cell_type": "code",
   "execution_count": 0,
   "metadata": {
    "application/vnd.databricks.v1+cell": {
     "cellMetadata": {
      "byteLimit": 2048000,
      "rowLimit": 10000
     },
     "inputWidgets": {},
     "nuid": "a5dd503a-8def-4250-96bf-f132354d401a",
     "showTitle": false,
     "tableResultSettingsMap": {},
     "title": ""
    }
   },
   "outputs": [],
   "source": [
    "audit_logger(job_id, job_name, input_load_date, job_start_date, job_start_datetime, task_run_id,  task_name, source_table_name, target_table_name)"
   ]
  },
  {
   "cell_type": "code",
   "execution_count": 0,
   "metadata": {
    "application/vnd.databricks.v1+cell": {
     "cellMetadata": {
      "byteLimit": 2048000,
      "rowLimit": 10000
     },
     "inputWidgets": {},
     "nuid": "b1e28a22-0e9a-412c-b939-7a8fc29219a9",
     "showTitle": false,
     "tableResultSettingsMap": {},
     "title": ""
    }
   },
   "outputs": [],
   "source": [
    "if dt.datetime.strptime(input_load_date,'%Y-%m-%d').weekday() > 4:\n",
    "    dbutils.notebook.exit(f\"WARNING: Input date: {input_load_date} lands on a weekend. No data available for the specified date.\")"
   ]
  },
  {
   "cell_type": "markdown",
   "metadata": {
    "application/vnd.databricks.v1+cell": {
     "cellMetadata": {},
     "inputWidgets": {},
     "nuid": "6b4d7c09-de68-4341-90d8-f350f45e69c2",
     "showTitle": false,
     "tableResultSettingsMap": {},
     "title": ""
    }
   },
   "source": [
    "## ETL"
   ]
  },
  {
   "cell_type": "code",
   "execution_count": 0,
   "metadata": {
    "application/vnd.databricks.v1+cell": {
     "cellMetadata": {
      "byteLimit": 2048000,
      "rowLimit": 10000
     },
     "inputWidgets": {},
     "nuid": "a2f00791-d225-4098-a83d-e2e61009d32d",
     "showTitle": false,
     "tableResultSettingsMap": {},
     "title": ""
    }
   },
   "outputs": [],
   "source": [
    "print(f'Transforming data for date: {input_load_date}')\n",
    "\n",
    "silver_SP500_stock_prices_df = spark.sql(\n",
    "    f\"\"\"\n",
    "    WITH silver_SP500_stock_prices AS (\n",
    "    SELECT sp.ticker_symbol\n",
    "            , c.company_name\n",
    "            , c.gics_sector\n",
    "            , c.gics_sub_industry\n",
    "            , sp.open_price\n",
    "            , sp.close_price\n",
    "            , sp.highest_price\n",
    "            , sp.lowest_price\n",
    "            , sp.trading_date\n",
    "    FROM {catalog_name}.{schema_name}.{source_table_name[0]} sp\n",
    "    INNER JOIN  {catalog_name}.{schema_name}.{source_table_name[1]} c ON sp.ticker_symbol = c.ticker_symbol)\n",
    "    \n",
    "    SELECT * \n",
    "    FROM silver_SP500_stock_prices \n",
    "    WHERE trading_date = '{input_load_date}'                        \n",
    "    \"\"\")"
   ]
  },
  {
   "cell_type": "code",
   "execution_count": 0,
   "metadata": {
    "application/vnd.databricks.v1+cell": {
     "cellMetadata": {
      "byteLimit": 2048000,
      "rowLimit": 10000
     },
     "inputWidgets": {},
     "nuid": "2c5c8f0a-e0b0-4f18-b1e4-974bded1a2df",
     "showTitle": false,
     "tableResultSettingsMap": {},
     "title": ""
    }
   },
   "outputs": [],
   "source": [
    "spark.sql(f\"\"\"\n",
    "        DELETE FROM {catalog_name}.{schema_name}.{target_table_name}\n",
    "        WHERE trading_date = '{input_load_date}'\n",
    "        \"\"\")\n",
    "\n",
    "(silver_SP500_stock_prices_df.write.format(\"delta\")\n",
    "                           .mode(\"append\")\n",
    "                           .partitionBy('trading_date')\n",
    "                           .saveAsTable(f'{catalog_name}.{schema_name}.{target_table_name}'))\n",
    "\n",
    "print(f'Run successful for: {input_load_date}')"
   ]
  },
  {
   "cell_type": "code",
   "execution_count": 0,
   "metadata": {
    "application/vnd.databricks.v1+cell": {
     "cellMetadata": {},
     "inputWidgets": {},
     "nuid": "7a79401a-bd0c-484a-b827-f7fe18fe3311",
     "showTitle": false,
     "tableResultSettingsMap": {},
     "title": ""
    }
   },
   "outputs": [],
   "source": []
  }
 ],
 "metadata": {
  "application/vnd.databricks.v1+notebook": {
   "computePreferences": null,
   "dashboards": [],
   "environmentMetadata": {
    "base_environment": "",
    "environment_version": "2"
   },
   "language": "python",
   "notebookMetadata": {
    "mostRecentlyExecutedCommandWithImplicitDF": {
     "commandId": 6368848666130899,
     "dataframes": [
      "_sqldf"
     ]
    },
    "pythonIndentUnit": 4
   },
   "notebookName": "transform_SP500_stock_prices",
   "widgets": {
    "input_load_date": {
     "currentValue": "2025-02-03",
     "nuid": "f5d8f07b-c663-46bd-bdda-587b775e0355",
     "typedWidgetInfo": {
      "autoCreated": false,
      "defaultValue": "YYYY-MM-DD",
      "label": "Input Load Date",
      "name": "input_load_date",
      "options": {
       "widgetDisplayType": "Text",
       "validationRegex": null
      },
      "parameterDataType": "String"
     },
     "widgetInfo": {
      "widgetType": "text",
      "defaultValue": "YYYY-MM-DD",
      "label": "Input Load Date",
      "name": "input_load_date",
      "options": {
       "widgetType": "text",
       "autoCreated": null,
       "validationRegex": null
      }
     }
    },
    "job_id": {
     "currentValue": "",
     "nuid": "efe027f2-d079-4088-9443-f0ca727f354a",
     "typedWidgetInfo": {
      "autoCreated": false,
      "defaultValue": "",
      "label": null,
      "name": "job_id",
      "options": {
       "widgetDisplayType": "Text",
       "validationRegex": null
      },
      "parameterDataType": "String"
     },
     "widgetInfo": {
      "widgetType": "text",
      "defaultValue": "",
      "label": null,
      "name": "job_id",
      "options": {
       "widgetType": "text",
       "autoCreated": null,
       "validationRegex": null
      }
     }
    },
    "job_name": {
     "currentValue": "",
     "nuid": "f7f8fb8f-9f89-4484-8215-ae2ef02c998f",
     "typedWidgetInfo": {
      "autoCreated": false,
      "defaultValue": "",
      "label": null,
      "name": "job_name",
      "options": {
       "widgetDisplayType": "Text",
       "validationRegex": null
      },
      "parameterDataType": "String"
     },
     "widgetInfo": {
      "widgetType": "text",
      "defaultValue": "",
      "label": null,
      "name": "job_name",
      "options": {
       "widgetType": "text",
       "autoCreated": null,
       "validationRegex": null
      }
     }
    },
    "job_start_date": {
     "currentValue": "",
     "nuid": "333e8857-1130-4079-af48-e26ec99f57f5",
     "typedWidgetInfo": {
      "autoCreated": false,
      "defaultValue": "",
      "label": null,
      "name": "job_start_date",
      "options": {
       "widgetDisplayType": "Text",
       "validationRegex": null
      },
      "parameterDataType": "String"
     },
     "widgetInfo": {
      "widgetType": "text",
      "defaultValue": "",
      "label": null,
      "name": "job_start_date",
      "options": {
       "widgetType": "text",
       "autoCreated": null,
       "validationRegex": null
      }
     }
    },
    "job_start_datetime": {
     "currentValue": "",
     "nuid": "5b2f010c-e37b-4824-b694-ec6c687aabb1",
     "typedWidgetInfo": {
      "autoCreated": false,
      "defaultValue": "",
      "label": null,
      "name": "job_start_datetime",
      "options": {
       "widgetDisplayType": "Text",
       "validationRegex": null
      },
      "parameterDataType": "String"
     },
     "widgetInfo": {
      "widgetType": "text",
      "defaultValue": "",
      "label": null,
      "name": "job_start_datetime",
      "options": {
       "widgetType": "text",
       "autoCreated": null,
       "validationRegex": null
      }
     }
    },
    "task_name": {
     "currentValue": "",
     "nuid": "41754841-66a2-490c-8d31-37e76bbb7dfa",
     "typedWidgetInfo": {
      "autoCreated": false,
      "defaultValue": "",
      "label": null,
      "name": "task_name",
      "options": {
       "widgetDisplayType": "Text",
       "validationRegex": null
      },
      "parameterDataType": "String"
     },
     "widgetInfo": {
      "widgetType": "text",
      "defaultValue": "",
      "label": null,
      "name": "task_name",
      "options": {
       "widgetType": "text",
       "autoCreated": null,
       "validationRegex": null
      }
     }
    },
    "task_run_id": {
     "currentValue": "",
     "nuid": "212a7d34-647c-4d00-9aba-cc572a21fbfa",
     "typedWidgetInfo": {
      "autoCreated": false,
      "defaultValue": "",
      "label": null,
      "name": "task_run_id",
      "options": {
       "widgetDisplayType": "Text",
       "validationRegex": null
      },
      "parameterDataType": "String"
     },
     "widgetInfo": {
      "widgetType": "text",
      "defaultValue": "",
      "label": null,
      "name": "task_run_id",
      "options": {
       "widgetType": "text",
       "autoCreated": null,
       "validationRegex": null
      }
     }
    }
   }
  },
  "language_info": {
   "name": "python"
  }
 },
 "nbformat": 4,
 "nbformat_minor": 0
}
