{
 "cells": [
  {
   "cell_type": "code",
   "execution_count": 0,
   "metadata": {
    "application/vnd.databricks.v1+cell": {
     "cellMetadata": {
      "byteLimit": 2048000,
      "rowLimit": 10000
     },
     "inputWidgets": {},
     "nuid": "3d021c22-2cf9-4c92-ba11-b904a128a5de",
     "showTitle": false,
     "tableResultSettingsMap": {},
     "title": ""
    }
   },
   "outputs": [],
   "source": [
    "# dbutils.widgets.text(\"input_load_date\", \"YYYY-MM-DD\", \"Input Load Date\")"
   ]
  },
  {
   "cell_type": "code",
   "execution_count": 0,
   "metadata": {
    "application/vnd.databricks.v1+cell": {
     "cellMetadata": {
      "byteLimit": 2048000,
      "rowLimit": 10000
     },
     "inputWidgets": {},
     "nuid": "ce2d1a17-a716-4834-ab40-a3f6fb574e39",
     "showTitle": false,
     "tableResultSettingsMap": {},
     "title": ""
    }
   },
   "outputs": [],
   "source": [
    "# Standard library imports\n",
    "import os\n",
    "\n",
    "# Third-party library imports\n",
    "from dotenv import load_dotenv"
   ]
  },
  {
   "cell_type": "code",
   "execution_count": 0,
   "metadata": {
    "application/vnd.databricks.v1+cell": {
     "cellMetadata": {
      "byteLimit": 2048000,
      "rowLimit": 10000
     },
     "inputWidgets": {},
     "nuid": "5b293fc2-5d72-443a-a0e6-8f8009ea1701",
     "showTitle": false,
     "tableResultSettingsMap": {},
     "title": ""
    }
   },
   "outputs": [],
   "source": [
    "load_dotenv()\n",
    "\n",
    "catalog_name = os.getenv('DATABRICKS_CATALOG_NAME')\n",
    "schema_name = os.getenv('DATABRICKS_SCHEMA_NAME')"
   ]
  },
  {
   "cell_type": "code",
   "execution_count": 0,
   "metadata": {
    "application/vnd.databricks.v1+cell": {
     "cellMetadata": {
      "byteLimit": 2048000,
      "rowLimit": 10000
     },
     "inputWidgets": {},
     "nuid": "a2f00791-d225-4098-a83d-e2e61009d32d",
     "showTitle": false,
     "tableResultSettingsMap": {},
     "title": ""
    }
   },
   "outputs": [],
   "source": [
    "silver_SP500_stock_financials_df = spark.sql(\n",
    "    f\"\"\"\n",
    "    WITH SP500_stock_prices AS (\n",
    "        SELECT \n",
    "            ticker_symbol\n",
    "            , ROUND(AVG((open_price + close_price + highest_price + lowest_price)) / 4, 2) AS latest_average_trading_price\n",
    "        FROM {catalog_name}.{schema_name}.kdayno_silver_SP500_stock_prices\n",
    "        WHERE trading_date = (SELECT max(trading_date) FROM {catalog_name}.{schema_name}.kdayno_silver_SP500_stock_prices)\n",
    "        GROUP BY ticker_symbol\n",
    "    ),\n",
    "    \n",
    "    SP500_stock_financials AS (\n",
    "        SELECT *\n",
    "        FROM {catalog_name}.{schema_name}.kdayno_bronze_SP500_stock_financials \n",
    "    ),\n",
    "\n",
    "    SP500_stock_financial_ratios AS (\n",
    "        SELECT \n",
    "            p.ticker_symbol\n",
    "            , p.latest_average_trading_price\n",
    "            , c.company_name\n",
    "            , c.gics_sector\n",
    "            , c.gics_sub_industry\n",
    "            , f.start_date\n",
    "            , f.end_date\n",
    "            , f.filing_date\n",
    "            , f.fiscal_period\n",
    "            , f.fiscal_year\n",
    "            , f.diluted_earnings_per_share\n",
    "            , f.net_income_loss\n",
    "            , f.equity\n",
    "            , f.long_term_debt\n",
    "            , f.diluted_average_shares\n",
    "            , p.latest_average_trading_price / f.diluted_earnings_per_share AS price_to_earnings_ratio\n",
    "            , f.net_income_loss / f.equity AS return_on_equity_ratio\n",
    "            , f.long_term_debt / f.equity AS debt_to_equity_ratio\n",
    "            , p.latest_average_trading_price * f.diluted_average_shares AS market_capitalization\n",
    "\n",
    "        FROM  SP500_stock_prices p\n",
    "        LEFT JOIN SP500_stock_financials f ON p.ticker_symbol = f.ticker_symbol\n",
    "        LEFT JOIN {catalog_name}.{schema_name}.kdayno_bronze_sp500_companies c ON p.ticker_symbol = c.ticker_symbol\n",
    "    )\n",
    "\n",
    "    SELECT *\n",
    "    FROM SP500_stock_financial_ratios                    \n",
    "    \"\"\")"
   ]
  },
  {
   "cell_type": "code",
   "execution_count": 0,
   "metadata": {
    "application/vnd.databricks.v1+cell": {
     "cellMetadata": {
      "byteLimit": 2048000,
      "rowLimit": 10000
     },
     "inputWidgets": {},
     "nuid": "2c5c8f0a-e0b0-4f18-b1e4-974bded1a2df",
     "showTitle": false,
     "tableResultSettingsMap": {},
     "title": ""
    }
   },
   "outputs": [],
   "source": [
    "(silver_SP500_stock_financials_df.write.format(\"delta\")\n",
    "                           .mode(\"overwrite\")\n",
    "                           .saveAsTable(f'{catalog_name}.{schema_name}.kdayno_silver_SP500_stock_financials'))"
   ]
  },
  {
   "cell_type": "code",
   "execution_count": 0,
   "metadata": {
    "application/vnd.databricks.v1+cell": {
     "cellMetadata": {},
     "inputWidgets": {},
     "nuid": "7a79401a-bd0c-484a-b827-f7fe18fe3311",
     "showTitle": false,
     "tableResultSettingsMap": {},
     "title": ""
    }
   },
   "outputs": [],
   "source": []
  }
 ],
 "metadata": {
  "application/vnd.databricks.v1+notebook": {
   "computePreferences": null,
   "dashboards": [],
   "environmentMetadata": {
    "base_environment": "",
    "environment_version": "2"
   },
   "language": "python",
   "notebookMetadata": {
    "mostRecentlyExecutedCommandWithImplicitDF": {
     "commandId": 3905852250677788,
     "dataframes": [
      "_sqldf"
     ]
    },
    "pythonIndentUnit": 4
   },
   "notebookName": "transform_SP500_stock_financials",
   "widgets": {
    "input_load_date": {
     "currentValue": "2025-02-03",
     "nuid": "f5d8f07b-c663-46bd-bdda-587b775e0355",
     "typedWidgetInfo": {
      "autoCreated": false,
      "defaultValue": "YYYY-MM-DD",
      "label": "Input Load Date",
      "name": "input_load_date",
      "options": {
       "widgetDisplayType": "Text",
       "validationRegex": null
      },
      "parameterDataType": "String"
     },
     "widgetInfo": {
      "widgetType": "text",
      "defaultValue": "YYYY-MM-DD",
      "label": "Input Load Date",
      "name": "input_load_date",
      "options": {
       "widgetType": "text",
       "autoCreated": null,
       "validationRegex": null
      }
     }
    }
   }
  },
  "language_info": {
   "name": "python"
  }
 },
 "nbformat": 4,
 "nbformat_minor": 0
}
