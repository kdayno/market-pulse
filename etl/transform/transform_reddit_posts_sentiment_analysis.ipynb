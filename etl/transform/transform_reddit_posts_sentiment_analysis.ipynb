{
 "cells": [
  {
   "cell_type": "markdown",
   "metadata": {
    "application/vnd.databricks.v1+cell": {
     "cellMetadata": {},
     "inputWidgets": {},
     "nuid": "107ab986-9e94-42a3-acb3-a3b7131734d5",
     "showTitle": false,
     "tableResultSettingsMap": {},
     "title": ""
    }
   },
   "source": [
    "## Pipeline Parameters"
   ]
  },
  {
   "cell_type": "code",
   "execution_count": 0,
   "metadata": {
    "application/vnd.databricks.v1+cell": {
     "cellMetadata": {
      "byteLimit": 2048000,
      "rowLimit": 10000
     },
     "inputWidgets": {},
     "nuid": "18a0e80c-5c4b-464b-a3a5-148c8aaec986",
     "showTitle": false,
     "tableResultSettingsMap": {},
     "title": ""
    }
   },
   "outputs": [],
   "source": [
    "dbutils.widgets.text(\"bronze_table_name\", 'kdayno_bronze_reddit_top_posts')\n",
    "dbutils.widgets.text(\"silver_table_name\", 'kdayno_silver_reddit_top_posts_sentiment')\n",
    "\n",
    "source_bronze_table_name = dbutils.widgets.get(\"bronze_table_name\")\n",
    "target_silver_table_name = dbutils.widgets.get(\"silver_table_name\")"
   ]
  },
  {
   "cell_type": "code",
   "execution_count": 0,
   "metadata": {
    "application/vnd.databricks.v1+cell": {
     "cellMetadata": {
      "byteLimit": 2048000,
      "rowLimit": 10000
     },
     "inputWidgets": {},
     "nuid": "40990817-72ce-474b-a920-9e00a3fbcae4",
     "showTitle": false,
     "tableResultSettingsMap": {},
     "title": ""
    }
   },
   "outputs": [],
   "source": [
    "# Standard library imports\n",
    "import os\n",
    "\n",
    "# Third-party library imports\n",
    "from dotenv import load_dotenv\n",
    "from transformers import AutoTokenizer, AutoModelForSequenceClassification, pipeline\n",
    "from pyspark.sql.functions import udf, col\n",
    "from pyspark.sql.types import StringType, StructType, StructField, FloatType\n",
    "\n",
    "load_dotenv()"
   ]
  },
  {
   "cell_type": "code",
   "execution_count": 0,
   "metadata": {
    "application/vnd.databricks.v1+cell": {
     "cellMetadata": {
      "byteLimit": 2048000,
      "rowLimit": 10000
     },
     "inputWidgets": {},
     "nuid": "247989c7-2817-446e-9365-f58eca1595f7",
     "showTitle": false,
     "tableResultSettingsMap": {},
     "title": ""
    }
   },
   "outputs": [],
   "source": [
    "catalog_name = os.getenv('DATABRICKS_CATALOG_NAME')\n",
    "schema_name = os.getenv('DATABRICKS_SCHEMA_NAME')"
   ]
  },
  {
   "cell_type": "code",
   "execution_count": 0,
   "metadata": {
    "application/vnd.databricks.v1+cell": {
     "cellMetadata": {
      "byteLimit": 2048000,
      "rowLimit": 10000
     },
     "inputWidgets": {},
     "nuid": "995ffd02-613b-4119-ba57-8e36090e8769",
     "showTitle": false,
     "tableResultSettingsMap": {},
     "title": ""
    }
   },
   "outputs": [],
   "source": [
    "# Load the FinBERT model and tokenizer\n",
    "model_name = \"ProsusAI/finbert\"\n",
    "model = AutoModelForSequenceClassification.from_pretrained(model_name)\n",
    "tokenizer = AutoTokenizer.from_pretrained(model_name)\n",
    "classifier = pipeline('text-classification', model=model, tokenizer=tokenizer)\n",
    "\n",
    "# Create a UDF for sentiment analysis\n",
    "@udf(returnType=StructType([\n",
    "    StructField(\"sentiment\", StringType(), True),\n",
    "    StructField(\"sentiment_score\", FloatType(), True)\n",
    "]))\n",
    "\n",
    "def sentiment_analysis_udf(text):\n",
    "    result = classifier(text)[0]\n",
    "    return (result['label'], float(result['score']))"
   ]
  },
  {
   "cell_type": "markdown",
   "metadata": {
    "application/vnd.databricks.v1+cell": {
     "cellMetadata": {
      "byteLimit": 2048000,
      "rowLimit": 10000
     },
     "inputWidgets": {},
     "nuid": "3076dea0-947b-4de5-a2e6-04473f29e407",
     "showTitle": false,
     "tableResultSettingsMap": {},
     "title": ""
    }
   },
   "source": [
    "## Sentiment Analysis of Reddit Posts"
   ]
  },
  {
   "cell_type": "code",
   "execution_count": 0,
   "metadata": {
    "application/vnd.databricks.v1+cell": {
     "cellMetadata": {
      "byteLimit": 2048000,
      "rowLimit": 10000
     },
     "inputWidgets": {},
     "nuid": "d7565a13-cf1d-4854-949c-b2b2e8ff3075",
     "showTitle": false,
     "tableResultSettingsMap": {},
     "title": ""
    }
   },
   "outputs": [],
   "source": [
    "# Apply the UDF and generate sentiment analysis results for posts\n",
    "reddit_posts_df = spark.table(f\"{catalog_name}.{schema_name}.{source_bronze_table_name}\")\n",
    "\n",
    "reddit_posts_sentiment_df = reddit_posts_df.withColumn(\"post_title_sentiment_result\", sentiment_analysis_udf(col('post_title')))\n",
    "reddit_posts_sentiment_df = reddit_posts_sentiment_df.select(\"*\", \"post_title_sentiment_result.*\")"
   ]
  },
  {
   "cell_type": "code",
   "execution_count": 0,
   "metadata": {
    "application/vnd.databricks.v1+cell": {
     "cellMetadata": {
      "byteLimit": 2048000,
      "rowLimit": 10000
     },
     "inputWidgets": {},
     "nuid": "30fbc738-d3c1-48d4-91bc-2db6087a3234",
     "showTitle": false,
     "tableResultSettingsMap": {},
     "title": ""
    }
   },
   "outputs": [],
   "source": [
    "(reddit_posts_sentiment_df.write.format(\"delta\")\n",
    "                                .mode(\"overwrite\")\n",
    "                                .partitionBy('subreddit')\n",
    "                                .saveAsTable(f\"{catalog_name}.{schema_name}.{target_silver_table_name}\"))"
   ]
  },
  {
   "cell_type": "code",
   "execution_count": 0,
   "metadata": {
    "application/vnd.databricks.v1+cell": {
     "cellMetadata": {
      "byteLimit": 2048000,
      "rowLimit": 10000
     },
     "inputWidgets": {},
     "nuid": "b5ec8f59-fad9-4701-b0cf-f4f6e152e142",
     "showTitle": false,
     "tableResultSettingsMap": {},
     "title": ""
    }
   },
   "outputs": [],
   "source": []
  }
 ],
 "metadata": {
  "application/vnd.databricks.v1+notebook": {
   "computePreferences": null,
   "dashboards": [],
   "environmentMetadata": {
    "base_environment": "",
    "environment_version": "2"
   },
   "language": "python",
   "notebookMetadata": {
    "mostRecentlyExecutedCommandWithImplicitDF": {
     "commandId": 6368848666128064,
     "dataframes": [
      "_sqldf"
     ]
    },
    "pythonIndentUnit": 4
   },
   "notebookName": "transform_reddit_posts_sentiment_analysis",
   "widgets": {
    "bronze_table_name": {
     "currentValue": "kdayno_bronze_reddit_hot_posts",
     "nuid": "33757e12-174e-4f99-aa1b-891bc469beb9",
     "typedWidgetInfo": {
      "autoCreated": false,
      "defaultValue": "kdayno_bronze_reddit_top_posts",
      "label": null,
      "name": "bronze_table_name",
      "options": {
       "widgetDisplayType": "Text",
       "validationRegex": null
      },
      "parameterDataType": "String"
     },
     "widgetInfo": {
      "widgetType": "text",
      "defaultValue": "kdayno_bronze_reddit_top_posts",
      "label": null,
      "name": "bronze_table_name",
      "options": {
       "widgetType": "text",
       "autoCreated": null,
       "validationRegex": null
      }
     }
    },
    "silver_table_name": {
     "currentValue": "kdayno_silver_reddit_hot_posts_sentiment",
     "nuid": "011dabc5-4fde-4a01-880d-e497f4bd0236",
     "typedWidgetInfo": {
      "autoCreated": false,
      "defaultValue": "kdayno_silver_reddit_top_posts_sentiment",
      "label": null,
      "name": "silver_table_name",
      "options": {
       "widgetDisplayType": "Text",
       "validationRegex": null
      },
      "parameterDataType": "String"
     },
     "widgetInfo": {
      "widgetType": "text",
      "defaultValue": "kdayno_silver_reddit_top_posts_sentiment",
      "label": null,
      "name": "silver_table_name",
      "options": {
       "widgetType": "text",
       "autoCreated": null,
       "validationRegex": null
      }
     }
    }
   }
  },
  "language_info": {
   "name": "python"
  }
 },
 "nbformat": 4,
 "nbformat_minor": 0
}
