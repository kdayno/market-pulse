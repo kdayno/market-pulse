{
 "cells": [
  {
   "cell_type": "code",
   "execution_count": 0,
   "metadata": {
    "application/vnd.databricks.v1+cell": {
     "cellMetadata": {
      "byteLimit": 2048000,
      "rowLimit": 10000
     },
     "inputWidgets": {},
     "nuid": "73329340-6600-47ff-91f1-477164841c03",
     "showTitle": false,
     "tableResultSettingsMap": {},
     "title": ""
    }
   },
   "outputs": [],
   "source": [
    "# Standard library imports\n",
    "import os\n",
    "\n",
    "# Third-party library imports\n",
    "import requests as r\n",
    "from dotenv import load_dotenv\n",
    "from pyspark.sql.functions import current_timestamp\n",
    "from pyspark.sql.types import (\n",
    "    DateType,\n",
    "    DecimalType,\n",
    "    DoubleType,\n",
    "    IntegerType,\n",
    "    StringType,\n",
    "    StructField,\n",
    "    StructType,\n",
    "    TimestampType\n",
    ")\n",
    "\n",
    "load_dotenv()\n",
    "\n",
    "raw_zone_path = os.getenv('RAW_ZONE_PATH')\n",
    "catalog_name = os.getenv('DATABRICKS_CATALOG_NAME')\n",
    "schema_name = os.getenv('DATABRICKS_SCHEMA_NAME')"
   ]
  },
  {
   "cell_type": "code",
   "execution_count": 0,
   "metadata": {
    "application/vnd.databricks.v1+cell": {
     "cellMetadata": {
      "byteLimit": 2048000,
      "rowLimit": 10000
     },
     "inputWidgets": {},
     "nuid": "87ce1c27-631d-47d5-8f6d-ec7509b8e5a1",
     "showTitle": false,
     "tableResultSettingsMap": {},
     "title": ""
    }
   },
   "outputs": [],
   "source": [
    "sp500_companies_source_schema = StructType([\n",
    "    StructField(\"Symbol\", StringType(), True),\n",
    "    StructField(\"Security\", StringType(), True),\n",
    "    StructField(\"GICS_Sector\", StringType(), True),\n",
    "    StructField(\"GICS_Sub_Industry\", StringType(), True),\n",
    "    StructField(\"Headquarters_Location\", StringType(), True),\n",
    "    StructField(\"Date_added\", DateType(), True),\n",
    "    StructField(\"CIK\", IntegerType(), True),\n",
    "    StructField(\"Founded\", IntegerType(), True),\n",
    "    StructField(\"load_date_ts\", TimestampType(), True),    \n",
    "])"
   ]
  },
  {
   "cell_type": "markdown",
   "metadata": {
    "application/vnd.databricks.v1+cell": {
     "cellMetadata": {},
     "inputWidgets": {},
     "nuid": "d8b2606c-79b0-40b9-be38-d0814adcc65e",
     "showTitle": false,
     "tableResultSettingsMap": {},
     "title": ""
    }
   },
   "source": [
    "## Load list of S&P 500 Companies"
   ]
  },
  {
   "cell_type": "code",
   "execution_count": 0,
   "metadata": {
    "application/vnd.databricks.v1+cell": {
     "cellMetadata": {
      "byteLimit": 2048000,
      "rowLimit": 10000
     },
     "inputWidgets": {},
     "nuid": "9dd80006-21a5-4bd5-98c0-a3b535e63ab7",
     "showTitle": false,
     "tableResultSettingsMap": {},
     "title": ""
    }
   },
   "outputs": [],
   "source": [
    "# URL of the CSV file\n",
    "url = 'https://datahub.io/core/s-and-p-500-companies/r/constituents.csv'\n",
    "\n",
    "# Download the CSV file\n",
    "response = r.get(url)\n",
    "print(response)\n",
    "\n",
    "if response.status_code == 200:\n",
    "    with open(f'{raw_zone_path}/s-and-p-500-companies.csv', 'wb') as file:\n",
    "        file.write(response.content)\n",
    "    print(\"CSV file downloaded successfully.\")\n",
    "\n",
    "else:\n",
    "    print(f\"Failed to download the file. Status code: {response.status_code}\")\n",
    "\n",
    "df = spark.read.csv(f'{raw_zone_path}/s-and-p-500-companies.csv', header=True, schema=sp500_companies_source_schema)\n",
    "\n",
    "df = df.toDF(*[c.lower() for c in df.columns])\n",
    "\n",
    "df = (df.withColumnRenamed('symbol', 'ticker_symbol')\n",
    "        .withColumnRenamed('security', 'company_name')\n",
    "        .withColumn('load_date_ts', current_timestamp()))\n",
    "\n",
    "df.write.mode(\"overwrite\").format(\"delta\").saveAsTable(f\"{catalog_name}.{schema_name}.kdayno_bronze_SP500_companies\")"
   ]
  },
  {
   "cell_type": "code",
   "execution_count": 0,
   "metadata": {
    "application/vnd.databricks.v1+cell": {
     "cellMetadata": {
      "byteLimit": 2048000,
      "implicitDf": true,
      "rowLimit": 10000
     },
     "inputWidgets": {},
     "nuid": "b3d86feb-d613-45ef-ad65-fe0f6957989e",
     "showTitle": false,
     "tableResultSettingsMap": {},
     "title": ""
    }
   },
   "outputs": [],
   "source": []
  }
 ],
 "metadata": {
  "application/vnd.databricks.v1+notebook": {
   "computePreferences": null,
   "dashboards": [],
   "environmentMetadata": {
    "base_environment": "",
    "environment_version": "2"
   },
   "language": "python",
   "notebookMetadata": {
    "mostRecentlyExecutedCommandWithImplicitDF": {
     "commandId": 7761683052294937,
     "dataframes": [
      "_sqldf"
     ]
    },
    "pythonIndentUnit": 4
   },
   "notebookName": "ingest_datahub_SP500_companies",
   "widgets": {}
  },
  "language_info": {
   "name": "python"
  }
 },
 "nbformat": 4,
 "nbformat_minor": 0
}
