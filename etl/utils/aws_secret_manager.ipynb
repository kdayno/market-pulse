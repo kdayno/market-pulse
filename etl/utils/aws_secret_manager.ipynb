{
 "cells": [
  {
   "cell_type": "code",
   "execution_count": 0,
   "metadata": {
    "application/vnd.databricks.v1+cell": {
     "cellMetadata": {},
     "inputWidgets": {},
     "nuid": "f488b7da-c0b1-4ea7-a6e4-5c8dc756863b",
     "showTitle": false,
     "tableResultSettingsMap": {},
     "title": ""
    }
   },
   "outputs": [],
   "source": [
    "import boto3\n",
    "from botocore.exceptions import ClientError\n",
    "\n",
    "def get_secret(secret_name, region_name='us-west-2'):\n",
    "    full_secret_name = 'airflow/variables/' + secret_name\n",
    "\n",
    "    # Create a Secrets Manager client\n",
    "    client = boto3.client(\n",
    "        service_name='secretsmanager',\n",
    "        region_name=region_name\n",
    "    )\n",
    "\n",
    "    try:\n",
    "        get_secret_value_response = client.get_secret_value(\n",
    "            SecretId=full_secret_name\n",
    "        )\n",
    "        # Secrets Manager decrypts the secret value using the associated KMS key\n",
    "        if 'SecretString' in get_secret_value_response:\n",
    "            secret = get_secret_value_response['SecretString']\n",
    "        else:\n",
    "            secret = get_secret_value_response['SecretBinary']\n",
    "\n",
    "        return secret\n",
    "    except ClientError as e:\n",
    "        print(f\"AWS ClientError {e.response['Error']['Code']}: {e}\")\n",
    "        raise e"
   ]
  }
 ],
 "metadata": {
  "application/vnd.databricks.v1+notebook": {
   "computePreferences": null,
   "dashboards": [],
   "environmentMetadata": {
    "base_environment": "",
    "environment_version": "2"
   },
   "language": "python",
   "notebookMetadata": {
    "pythonIndentUnit": 4
   },
   "notebookName": "aws_secret_manager",
   "widgets": {}
  },
  "language_info": {
   "name": "python"
  }
 },
 "nbformat": 4,
 "nbformat_minor": 0
}
