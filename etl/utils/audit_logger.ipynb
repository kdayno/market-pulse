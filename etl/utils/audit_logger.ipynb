{
 "cells": [
  {
   "cell_type": "code",
   "execution_count": 0,
   "metadata": {
    "application/vnd.databricks.v1+cell": {
     "cellMetadata": {
      "byteLimit": 2048000,
      "rowLimit": 10000
     },
     "inputWidgets": {},
     "nuid": "421c6e1a-b2ba-42ab-a551-d055178b38fe",
     "showTitle": false,
     "tableResultSettingsMap": {},
     "title": ""
    }
   },
   "outputs": [],
   "source": [
    "# Standard library imports\n",
    "import os\n",
    "\n",
    "# Third-party library imports\n",
    "from dotenv import load_dotenv\n",
    "\n",
    "catalog_name = os.getenv('DATABRICKS_CATALOG_NAME')\n",
    "schema_name = os.getenv('DATABRICKS_SCHEMA_NAME')\n",
    "audit_table_name = 'kdayno_audit_job_runs'\n",
    "\n",
    "def audit_logger(job_id, job_name, input_params_at_runtime, job_start_date, job_start_datetime, task_run_id,  task_name, source_table_name, target_table_name):\n",
    "\n",
    "    audit_cols = [\"job_id\", \"job_name\", \"input_params_at_runtime\", \"job_start_date\", \"job_start_datetime\", \"task_run_id\", \"task_name\", \"source_tables\", \"target_tables\"]\n",
    "    audit_vals = [(job_id, job_name, str(input_params_at_runtime), job_start_date, job_start_datetime, task_run_id,  task_name, str(source_table_name), str(target_table_name))]\n",
    "\n",
    "    audit_df = spark.createDataFrame(audit_vals, audit_cols)\n",
    "\n",
    "    (audit_df.write.format(\"delta\")\n",
    "                   .mode(\"append\")\n",
    "                   .partitionBy('job_start_date')\n",
    "                   .saveAsTable(f'{catalog_name}.{schema_name}.{audit_table_name}'))\n",
    "    \n",
    "\n",
    "    # Checks if there are audit logs from more than 7 days old\n",
    "    # If true, then execute vacuum command to remove old audit logs\n",
    "    audit_job_runs_df = spark.sql(f\"SELECT date_diff(MAX(job_start_date), MIN(job_start_date)) > 7 FROM {catalog_name}.{schema_name}.{audit_table_name}\")\n",
    "\n",
    "    if audit_job_runs_df.collect()[0][0]:\n",
    "        spark.sql(f\"VACUUM {catalog_name}.{schema_name}.{audit_table_name} LITE RETAIN 168 HOURS\")\n",
    "\n"
   ]
  }
 ],
 "metadata": {
  "application/vnd.databricks.v1+notebook": {
   "computePreferences": null,
   "dashboards": [],
   "environmentMetadata": {
    "base_environment": "",
    "environment_version": "2"
   },
   "language": "python",
   "notebookMetadata": {
    "mostRecentlyExecutedCommandWithImplicitDF": {
     "commandId": 3905852250678037,
     "dataframes": [
      "_sqldf"
     ]
    },
    "pythonIndentUnit": 4
   },
   "notebookName": "audit_logger",
   "widgets": {}
  },
  "language_info": {
   "name": "python"
  }
 },
 "nbformat": 4,
 "nbformat_minor": 0
}
