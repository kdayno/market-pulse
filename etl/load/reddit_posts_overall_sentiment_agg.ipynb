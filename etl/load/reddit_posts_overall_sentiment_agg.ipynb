{
 "cells": [
  {
   "cell_type": "markdown",
   "metadata": {
    "application/vnd.databricks.v1+cell": {
     "cellMetadata": {
      "byteLimit": 2048000,
      "rowLimit": 10000
     },
     "inputWidgets": {},
     "nuid": "f1a30b13-eb34-40d3-a805-00e773868157",
     "showTitle": false,
     "tableResultSettingsMap": {},
     "title": ""
    }
   },
   "source": [
    "## Pipeline Parameters"
   ]
  },
  {
   "cell_type": "code",
   "execution_count": 0,
   "metadata": {
    "application/vnd.databricks.v1+cell": {
     "cellMetadata": {
      "byteLimit": 2048000,
      "rowLimit": 10000
     },
     "inputWidgets": {},
     "nuid": "e0adc6e4-3d38-4f99-8e59-c76d95dd612e",
     "showTitle": false,
     "tableResultSettingsMap": {},
     "title": ""
    }
   },
   "outputs": [],
   "source": [
    "dbutils.widgets.text(\"input_number_of_days\", '30')\n",
    "dbutils.widgets.text(\"target_table_name\", 'kdayno_gold_posts_last_30_days_overall_sentiment_agg')\n",
    "\n",
    "input_number_of_days = dbutils.widgets.get(\"input_number_of_days\")\n",
    "target_table_name = dbutils.widgets.get(\"target_table_name\")"
   ]
  },
  {
   "cell_type": "code",
   "execution_count": 0,
   "metadata": {
    "application/vnd.databricks.v1+cell": {
     "cellMetadata": {
      "byteLimit": 2048000,
      "rowLimit": 10000
     },
     "inputWidgets": {},
     "nuid": "28cb4979-d534-41c6-b91e-de461211ee86",
     "showTitle": false,
     "tableResultSettingsMap": {},
     "title": ""
    }
   },
   "outputs": [],
   "source": [
    "# Standard library imports\n",
    "import os\n",
    "\n",
    "# Third-party library imports\n",
    "from dotenv import load_dotenv"
   ]
  },
  {
   "cell_type": "code",
   "execution_count": 0,
   "metadata": {
    "application/vnd.databricks.v1+cell": {
     "cellMetadata": {
      "byteLimit": 2048000,
      "rowLimit": 10000
     },
     "inputWidgets": {},
     "nuid": "10ce2fda-f04d-454d-8fad-fb2718b5ee66",
     "showTitle": false,
     "tableResultSettingsMap": {},
     "title": ""
    }
   },
   "outputs": [],
   "source": [
    "load_dotenv()\n",
    "\n",
    "catalog_name = os.getenv('DATABRICKS_CATALOG_NAME')\n",
    "schema_name = os.getenv('DATABRICKS_SCHEMA_NAME')"
   ]
  },
  {
   "cell_type": "code",
   "execution_count": 0,
   "metadata": {
    "application/vnd.databricks.v1+cell": {
     "cellMetadata": {
      "byteLimit": 2048000,
      "rowLimit": 10000
     },
     "inputWidgets": {},
     "nuid": "18f8bb49-7c80-48cd-a979-a2f0705302e6",
     "showTitle": false,
     "tableResultSettingsMap": {},
     "title": ""
    }
   },
   "outputs": [],
   "source": [
    "print(f\"Running aggregate process for last: {input_number_of_days} days \")\n",
    "\n",
    "reddit_posts_sentiment_agg_df = spark.sql(\n",
    "    f\"\"\"\n",
    "    WITH all_posts AS (\n",
    "      SELECT \n",
    "        * \n",
    "        , COUNT(*) OVER(PARTITION BY ticker_symbol) AS total_posts\n",
    "      FROM tabular.dataexpert.kdayno_silver_reddit_all_posts\n",
    "      WHERE created_date_utc BETWEEN current_date() - INTERVAL {input_number_of_days} DAY AND current_date()\n",
    "      ),\n",
    "\n",
    "    posts_sentiment_agg AS (\n",
    "      SELECT\n",
    "          ticker_symbol\n",
    "          , company_name\n",
    "          , sentiment_category\n",
    "          , COUNT(*) AS post_count\n",
    "          , total_posts\n",
    "          , ROUND(AVG(sentiment_score), 2) AS average_sentiment_score\n",
    "          , ROUND(COUNT(*) / total_posts , 2) AS sentiment_category_percentage\n",
    "      FROM all_posts\n",
    "      GROUP BY ticker_symbol, company_name, sentiment_category, total_posts\n",
    "      ),        \n",
    "\n",
    "    posts_sentiment_ranked_agg AS (\n",
    "      SELECT\n",
    "        ticker_symbol\n",
    "        , company_name\n",
    "        , sentiment_category\n",
    "        , ROW_NUMBER() OVER(PARTITION BY ticker_symbol ORDER BY sentiment_category_percentage DESC) AS sentiment_rank\n",
    "        , post_count\n",
    "        , total_posts\n",
    "        , sentiment_category_percentage\n",
    "        , average_sentiment_score\n",
    "      FROM posts_sentiment_agg\n",
    "      )\n",
    "\n",
    "    SELECT *\n",
    "    FROM posts_sentiment_ranked_agg\n",
    "    ORDER BY ticker_symbol, sentiment_rank\n",
    "    \"\"\")"
   ]
  },
  {
   "cell_type": "code",
   "execution_count": 0,
   "metadata": {
    "application/vnd.databricks.v1+cell": {
     "cellMetadata": {
      "byteLimit": 2048000,
      "rowLimit": 10000
     },
     "inputWidgets": {},
     "nuid": "e4b653be-c22c-40b4-b064-cc332a094bba",
     "showTitle": false,
     "tableResultSettingsMap": {},
     "title": ""
    }
   },
   "outputs": [],
   "source": [
    "print(f\"Loading data to target table: {catalog_name}.{schema_name}.{target_table_name}\")\n",
    "\n",
    "(reddit_posts_sentiment_agg_df.write.format('delta')\n",
    "                                .mode('overwrite')\n",
    "                                .saveAsTable(f'{catalog_name}.{schema_name}.{target_table_name}'))"
   ]
  },
  {
   "cell_type": "code",
   "execution_count": 0,
   "metadata": {
    "application/vnd.databricks.v1+cell": {
     "cellMetadata": {
      "byteLimit": 2048000,
      "rowLimit": 10000
     },
     "inputWidgets": {},
     "nuid": "b605fdc4-df1d-417e-924f-bdbd7705a724",
     "showTitle": false,
     "tableResultSettingsMap": {},
     "title": ""
    }
   },
   "outputs": [],
   "source": []
  }
 ],
 "metadata": {
  "application/vnd.databricks.v1+notebook": {
   "computePreferences": null,
   "dashboards": [],
   "environmentMetadata": {
    "base_environment": "",
    "environment_version": "2"
   },
   "language": "python",
   "notebookMetadata": {
    "mostRecentlyExecutedCommandWithImplicitDF": {
     "commandId": 6288841831501034,
     "dataframes": [
      "_sqldf"
     ]
    },
    "pythonIndentUnit": 4
   },
   "notebookName": "reddit_posts_overall_sentiment_agg",
   "widgets": {
    "input_number_of_days": {
     "currentValue": "365",
     "nuid": "0eee475f-91e8-424b-8610-8923c7dd8b9f",
     "typedWidgetInfo": {
      "autoCreated": false,
      "defaultValue": "30",
      "label": "Input Number of Days:",
      "name": "input_number_of_days",
      "options": {
       "widgetDisplayType": "Text",
       "validationRegex": null
      },
      "parameterDataType": "String"
     },
     "widgetInfo": {
      "widgetType": "text",
      "defaultValue": "30",
      "label": "Input Number of Days:",
      "name": "input_number_of_days",
      "options": {
       "widgetType": "text",
       "autoCreated": null,
       "validationRegex": null
      }
     }
    },
    "target_table_name": {
     "currentValue": "kdayno_gold_posts_last_365_days_overall_sentiment_agg",
     "nuid": "2b48ed38-e20b-4632-8005-eaea8e9c388c",
     "typedWidgetInfo": {
      "autoCreated": false,
      "defaultValue": "kdayno_gold_posts_last_30_days_overall_sentiment_agg",
      "label": "Target Table Name:",
      "name": "target_table_name",
      "options": {
       "widgetDisplayType": "Text",
       "validationRegex": null
      },
      "parameterDataType": "String"
     },
     "widgetInfo": {
      "widgetType": "text",
      "defaultValue": "kdayno_gold_posts_last_30_days_overall_sentiment_agg",
      "label": "Target Table Name:",
      "name": "target_table_name",
      "options": {
       "widgetType": "text",
       "autoCreated": null,
       "validationRegex": null
      }
     }
    }
   }
  },
  "language_info": {
   "name": "python"
  }
 },
 "nbformat": 4,
 "nbformat_minor": 0
}
