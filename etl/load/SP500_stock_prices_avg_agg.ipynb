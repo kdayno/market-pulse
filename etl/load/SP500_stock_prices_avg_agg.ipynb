{
 "cells": [
  {
   "cell_type": "markdown",
   "metadata": {
    "application/vnd.databricks.v1+cell": {
     "cellMetadata": {},
     "inputWidgets": {},
     "nuid": "dd8e39b5-5dad-4272-9ae5-754b480d1524",
     "showTitle": false,
     "tableResultSettingsMap": {},
     "title": ""
    }
   },
   "source": [
    "## Pipeline Parameters"
   ]
  },
  {
   "cell_type": "code",
   "execution_count": 0,
   "metadata": {
    "application/vnd.databricks.v1+cell": {
     "cellMetadata": {},
     "inputWidgets": {},
     "nuid": "2ec67c75-c3cb-42ea-ab1f-756e35c08389",
     "showTitle": false,
     "tableResultSettingsMap": {},
     "title": ""
    }
   },
   "outputs": [],
   "source": [
    "dbutils.widgets.text(\"target_table_name\", 'kdayno_gold_SP500_stock_prices_avg_agg')\n",
    "\n",
    "target_table_name = dbutils.widgets.get(\"target_table_name\")"
   ]
  },
  {
   "cell_type": "code",
   "execution_count": 0,
   "metadata": {
    "application/vnd.databricks.v1+cell": {
     "cellMetadata": {
      "byteLimit": 2048000,
      "rowLimit": 10000
     },
     "inputWidgets": {},
     "nuid": "28cb4979-d534-41c6-b91e-de461211ee86",
     "showTitle": false,
     "tableResultSettingsMap": {},
     "title": ""
    }
   },
   "outputs": [],
   "source": [
    "# Standard library imports\n",
    "import os\n",
    "\n",
    "# Third-party library imports\n",
    "from dotenv import load_dotenv"
   ]
  },
  {
   "cell_type": "code",
   "execution_count": 0,
   "metadata": {
    "application/vnd.databricks.v1+cell": {
     "cellMetadata": {
      "byteLimit": 2048000,
      "rowLimit": 10000
     },
     "inputWidgets": {},
     "nuid": "10ce2fda-f04d-454d-8fad-fb2718b5ee66",
     "showTitle": false,
     "tableResultSettingsMap": {},
     "title": ""
    }
   },
   "outputs": [],
   "source": [
    "load_dotenv()\n",
    "\n",
    "catalog_name = os.getenv('DATABRICKS_CATALOG_NAME')\n",
    "schema_name = os.getenv('DATABRICKS_SCHEMA_NAME')"
   ]
  },
  {
   "cell_type": "code",
   "execution_count": 0,
   "metadata": {
    "application/vnd.databricks.v1+cell": {
     "cellMetadata": {
      "byteLimit": 2048000,
      "rowLimit": 10000
     },
     "inputWidgets": {},
     "nuid": "18f8bb49-7c80-48cd-a979-a2f0705302e6",
     "showTitle": false,
     "tableResultSettingsMap": {},
     "title": ""
    }
   },
   "outputs": [],
   "source": [
    "print(f\"Running aggregate process... \")\n",
    "\n",
    "SP500_stock_prices_avg_agg_df = spark.sql(\n",
    "    f\"\"\"\n",
    "    SELECT \n",
    "        ticker_symbol\n",
    "        , company_name\n",
    "        , trading_date\n",
    "        , ROUND(AVG((open_price + close_price + highest_price + lowest_price)) / 4, 2) AS average_trading_price\n",
    "    FROM {catalog_name}.{schema_name}.kdayno_silver_SP500_stock_prices\n",
    "    GROUP BY ticker_symbol, company_name, trading_date\n",
    "    \"\"\")"
   ]
  },
  {
   "cell_type": "code",
   "execution_count": 0,
   "metadata": {
    "application/vnd.databricks.v1+cell": {
     "cellMetadata": {
      "byteLimit": 2048000,
      "rowLimit": 10000
     },
     "inputWidgets": {},
     "nuid": "e4b653be-c22c-40b4-b064-cc332a094bba",
     "showTitle": false,
     "tableResultSettingsMap": {},
     "title": ""
    }
   },
   "outputs": [],
   "source": [
    "print(f\"Loading data to target table: {catalog_name}.{schema_name}.{target_table_name}\")\n",
    "\n",
    "(SP500_stock_prices_avg_agg_df.write.format('delta')\n",
    "                                .mode('overwrite')\n",
    "                                .saveAsTable(f'{catalog_name}.{schema_name}.{target_table_name}'))"
   ]
  },
  {
   "cell_type": "code",
   "execution_count": 0,
   "metadata": {
    "application/vnd.databricks.v1+cell": {
     "cellMetadata": {
      "byteLimit": 2048000,
      "rowLimit": 10000
     },
     "inputWidgets": {},
     "nuid": "b72710eb-f1ef-41a1-a520-9dcd7a52d402",
     "showTitle": false,
     "tableResultSettingsMap": {},
     "title": ""
    }
   },
   "outputs": [],
   "source": []
  }
 ],
 "metadata": {
  "application/vnd.databricks.v1+notebook": {
   "computePreferences": null,
   "dashboards": [],
   "environmentMetadata": {
    "base_environment": "",
    "environment_version": "2"
   },
   "language": "python",
   "notebookMetadata": {
    "mostRecentlyExecutedCommandWithImplicitDF": {
     "commandId": 7451663135488508,
     "dataframes": [
      "_sqldf"
     ]
    },
    "pythonIndentUnit": 4
   },
   "notebookName": "SP500_stock_prices_avg_agg",
   "widgets": {
    "input_number_of_days": {
     "currentValue": "365",
     "nuid": "0eee475f-91e8-424b-8610-8923c7dd8b9f",
     "typedWidgetInfo": {
      "autoCreated": false,
      "defaultValue": "30",
      "label": "Input Number of Days:",
      "name": "input_number_of_days",
      "options": {
       "widgetDisplayType": "Text",
       "validationRegex": null
      },
      "parameterDataType": "String"
     },
     "widgetInfo": {
      "widgetType": "text",
      "defaultValue": "30",
      "label": "Input Number of Days:",
      "name": "input_number_of_days",
      "options": {
       "widgetType": "text",
       "autoCreated": null,
       "validationRegex": null
      }
     }
    },
    "target_table_name": {
     "currentValue": "kdayno_gold_reddit_posts_last_365_days_sentiment_agg",
     "nuid": "2b48ed38-e20b-4632-8005-eaea8e9c388c",
     "typedWidgetInfo": {
      "autoCreated": false,
      "defaultValue": "kdayno_gold_reddit_posts_last_30_days_sentiment_agg",
      "label": "Target Table Name:",
      "name": "target_table_name",
      "options": {
       "widgetDisplayType": "Text",
       "validationRegex": null
      },
      "parameterDataType": "String"
     },
     "widgetInfo": {
      "widgetType": "text",
      "defaultValue": "kdayno_gold_reddit_posts_last_30_days_sentiment_agg",
      "label": "Target Table Name:",
      "name": "target_table_name",
      "options": {
       "widgetType": "text",
       "autoCreated": null,
       "validationRegex": null
      }
     }
    }
   }
  },
  "language_info": {
   "name": "python"
  }
 },
 "nbformat": 4,
 "nbformat_minor": 0
}
