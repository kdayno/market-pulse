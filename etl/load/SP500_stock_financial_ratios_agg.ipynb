{
 "cells": [
  {
   "cell_type": "markdown",
   "metadata": {
    "application/vnd.databricks.v1+cell": {
     "cellMetadata": {},
     "inputWidgets": {},
     "nuid": "dd8e39b5-5dad-4272-9ae5-754b480d1524",
     "showTitle": false,
     "tableResultSettingsMap": {},
     "title": ""
    }
   },
   "source": [
    "## Pipeline Parameters"
   ]
  },
  {
   "cell_type": "code",
   "execution_count": 0,
   "metadata": {
    "application/vnd.databricks.v1+cell": {
     "cellMetadata": {
      "byteLimit": 2048000,
      "rowLimit": 10000
     },
     "inputWidgets": {},
     "nuid": "2ec67c75-c3cb-42ea-ab1f-756e35c08389",
     "showTitle": false,
     "tableResultSettingsMap": {},
     "title": ""
    }
   },
   "outputs": [],
   "source": [
    "dbutils.widgets.text(\"target_table_name\", 'kdayno_gold_SP500_stock_financial_ratios_agg')\n",
    "\n",
    "# Audit Parameters\n",
    "dbutils.widgets.text(\"job_id\", \"\")\n",
    "dbutils.widgets.text(\"job_name\", \"\")\n",
    "dbutils.widgets.text(\"job_start_date\", \"\")\n",
    "dbutils.widgets.text(\"job_start_datetime\", \"\")\n",
    "dbutils.widgets.text(\"task_run_id\", \"\")\n",
    "dbutils.widgets.text(\"task_name\", \"\")\n"
   ]
  },
  {
   "cell_type": "code",
   "execution_count": 0,
   "metadata": {
    "application/vnd.databricks.v1+cell": {
     "cellMetadata": {
      "byteLimit": 2048000,
      "rowLimit": 10000
     },
     "inputWidgets": {},
     "nuid": "20bbf2c8-c769-45af-bff0-124470934baa",
     "showTitle": false,
     "tableResultSettingsMap": {},
     "title": ""
    }
   },
   "outputs": [],
   "source": [
    "%run ../utils/loggers"
   ]
  },
  {
   "cell_type": "code",
   "execution_count": 0,
   "metadata": {
    "application/vnd.databricks.v1+cell": {
     "cellMetadata": {
      "byteLimit": 2048000,
      "rowLimit": 10000
     },
     "inputWidgets": {},
     "nuid": "28cb4979-d534-41c6-b91e-de461211ee86",
     "showTitle": false,
     "tableResultSettingsMap": {},
     "title": ""
    }
   },
   "outputs": [],
   "source": [
    "# Standard library imports\n",
    "import os\n",
    "\n",
    "# Third-party library imports\n",
    "from dotenv import load_dotenv"
   ]
  },
  {
   "cell_type": "code",
   "execution_count": 0,
   "metadata": {
    "application/vnd.databricks.v1+cell": {
     "cellMetadata": {
      "byteLimit": 2048000,
      "rowLimit": 10000
     },
     "inputWidgets": {},
     "nuid": "10ce2fda-f04d-454d-8fad-fb2718b5ee66",
     "showTitle": false,
     "tableResultSettingsMap": {},
     "title": ""
    }
   },
   "outputs": [],
   "source": [
    "load_dotenv()\n",
    "\n",
    "catalog_name = os.getenv('DATABRICKS_CATALOG_NAME')\n",
    "schema_name = os.getenv('DATABRICKS_SCHEMA_NAME')\n",
    "\n",
    "source_table_name = 'kdayno_silver_SP500_stock_financials'\n",
    "target_table_name = dbutils.widgets.get(\"target_table_name\")\n",
    "\n",
    "# Audit Variables\n",
    "job_id = dbutils.widgets.get('job_id')\n",
    "job_name = dbutils.widgets.get('job_name')\n",
    "job_start_date = dbutils.widgets.get('job_start_date')\n",
    "job_start_datetime = dbutils.widgets.get('job_start_datetime')\n",
    "task_run_id = dbutils.widgets.get('task_run_id')\n",
    "task_name = dbutils.widgets.get('task_name')"
   ]
  },
  {
   "cell_type": "markdown",
   "metadata": {
    "application/vnd.databricks.v1+cell": {
     "cellMetadata": {},
     "inputWidgets": {},
     "nuid": "98df8eee-2e0d-4b71-b81d-3e84a82b5e36",
     "showTitle": false,
     "tableResultSettingsMap": {},
     "title": ""
    }
   },
   "source": [
    "## Pipeline Logging"
   ]
  },
  {
   "cell_type": "code",
   "execution_count": 0,
   "metadata": {
    "application/vnd.databricks.v1+cell": {
     "cellMetadata": {
      "byteLimit": 2048000,
      "rowLimit": 10000
     },
     "inputWidgets": {},
     "nuid": "3f8db99a-ce14-4f2b-97a0-6ecb9bf23031",
     "showTitle": false,
     "tableResultSettingsMap": {},
     "title": ""
    }
   },
   "outputs": [],
   "source": [
    "audit_logger(job_id, job_name, 'None', job_start_date, job_start_datetime, task_run_id,  task_name, source_table_name, target_table_name)\n",
    "\n",
    "etl_logger = etl_logger()"
   ]
  },
  {
   "cell_type": "markdown",
   "metadata": {
    "application/vnd.databricks.v1+cell": {
     "cellMetadata": {},
     "inputWidgets": {},
     "nuid": "d567e37a-fd7e-434f-a838-927b32520c6f",
     "showTitle": false,
     "tableResultSettingsMap": {},
     "title": ""
    }
   },
   "source": [
    "## ETL"
   ]
  },
  {
   "cell_type": "code",
   "execution_count": 0,
   "metadata": {
    "application/vnd.databricks.v1+cell": {
     "cellMetadata": {
      "byteLimit": 2048000,
      "rowLimit": 10000
     },
     "inputWidgets": {},
     "nuid": "3df124eb-fc7e-4402-b6a6-e2ed1b87b2d8",
     "showTitle": false,
     "tableResultSettingsMap": {},
     "title": ""
    }
   },
   "outputs": [],
   "source": [
    "etl_logger.info(f\"Running aggregate process... \")\n",
    "\n",
    "SP500_stock_financial_ratios_agg_df = spark.sql(\n",
    "    f\"\"\"\n",
    "    SELECT \n",
    "        ticker_symbol\n",
    "        , company_name\n",
    "        , gics_sector\n",
    "        , COALESCE(price_to_earnings_ratio, 0) AS price_to_earnings_ratio\n",
    "        , COALESCE(return_on_equity_ratio, 0) AS return_on_equity_ratio\n",
    "        , COALESCE(debt_to_equity_ratio, 0) AS debt_to_equity_ratio\n",
    "        , COALESCE(market_capitalization, 0) AS market_capitalization\n",
    "        , AVG(price_to_earnings_ratio) OVER(PARTITION BY gics_sector) AS sector_average_price_to_earnings_ratio\n",
    "        , AVG(return_on_equity_ratio) OVER(PARTITION BY gics_sector) AS sector_average_return_on_equity_ratio\n",
    "        , AVG(debt_to_equity_ratio) OVER(PARTITION BY gics_sector) AS sector_average_debt_to_equity_ratio\n",
    "        , AVG(market_capitalization) OVER(PARTITION BY gics_sector) AS sector_average_market_capitalization\n",
    "    FROM {catalog_name}.{schema_name}.{source_table_name}\n",
    "    \"\"\")"
   ]
  },
  {
   "cell_type": "code",
   "execution_count": 0,
   "metadata": {
    "application/vnd.databricks.v1+cell": {
     "cellMetadata": {
      "byteLimit": 2048000,
      "rowLimit": 10000
     },
     "inputWidgets": {},
     "nuid": "e4b653be-c22c-40b4-b064-cc332a094bba",
     "showTitle": false,
     "tableResultSettingsMap": {},
     "title": ""
    }
   },
   "outputs": [],
   "source": [
    "etl_logger.info(f\"Loading data to target table: {catalog_name}.{schema_name}.{target_table_name}\")\n",
    "\n",
    "etl_logger.info(f'Loading: {SP500_stock_financial_ratios_agg_df.count()} rows to: {target_table_name}')\n",
    "\n",
    "(SP500_stock_financial_ratios_agg_df.write.format('delta')\n",
    "                                .mode('overwrite')\n",
    "                                .saveAsTable(f'{catalog_name}.{schema_name}.{target_table_name}'))"
   ]
  },
  {
   "cell_type": "code",
   "execution_count": 0,
   "metadata": {
    "application/vnd.databricks.v1+cell": {
     "cellMetadata": {
      "byteLimit": 2048000,
      "rowLimit": 10000
     },
     "inputWidgets": {},
     "nuid": "b72710eb-f1ef-41a1-a520-9dcd7a52d402",
     "showTitle": false,
     "tableResultSettingsMap": {},
     "title": ""
    }
   },
   "outputs": [],
   "source": []
  }
 ],
 "metadata": {
  "application/vnd.databricks.v1+notebook": {
   "computePreferences": null,
   "dashboards": [],
   "environmentMetadata": {
    "base_environment": "",
    "environment_version": "2"
   },
   "language": "python",
   "notebookMetadata": {
    "mostRecentlyExecutedCommandWithImplicitDF": {
     "commandId": 7451663135488508,
     "dataframes": [
      "_sqldf"
     ]
    },
    "pythonIndentUnit": 4
   },
   "notebookName": "SP500_stock_financial_ratios_agg",
   "widgets": {
    "job_id": {
     "currentValue": "",
     "nuid": "b758b863-e8cb-4edc-8ff4-0723bdfc5545",
     "typedWidgetInfo": {
      "autoCreated": false,
      "defaultValue": "",
      "label": null,
      "name": "job_id",
      "options": {
       "widgetDisplayType": "Text",
       "validationRegex": null
      },
      "parameterDataType": "String"
     },
     "widgetInfo": {
      "widgetType": "text",
      "defaultValue": "",
      "label": null,
      "name": "job_id",
      "options": {
       "widgetType": "text",
       "autoCreated": null,
       "validationRegex": null
      }
     }
    },
    "job_name": {
     "currentValue": "",
     "nuid": "82ea4cc5-5704-4d49-8054-c38bb28aca15",
     "typedWidgetInfo": {
      "autoCreated": false,
      "defaultValue": "",
      "label": null,
      "name": "job_name",
      "options": {
       "widgetDisplayType": "Text",
       "validationRegex": null
      },
      "parameterDataType": "String"
     },
     "widgetInfo": {
      "widgetType": "text",
      "defaultValue": "",
      "label": null,
      "name": "job_name",
      "options": {
       "widgetType": "text",
       "autoCreated": null,
       "validationRegex": null
      }
     }
    },
    "job_start_date": {
     "currentValue": "",
     "nuid": "3b88c746-c44c-48b9-bb30-af99ea2f87e3",
     "typedWidgetInfo": {
      "autoCreated": false,
      "defaultValue": "",
      "label": null,
      "name": "job_start_date",
      "options": {
       "widgetDisplayType": "Text",
       "validationRegex": null
      },
      "parameterDataType": "String"
     },
     "widgetInfo": {
      "widgetType": "text",
      "defaultValue": "",
      "label": null,
      "name": "job_start_date",
      "options": {
       "widgetType": "text",
       "autoCreated": null,
       "validationRegex": null
      }
     }
    },
    "job_start_datetime": {
     "currentValue": "",
     "nuid": "1b984907-369d-4014-84b8-2e8400102b9d",
     "typedWidgetInfo": {
      "autoCreated": false,
      "defaultValue": "",
      "label": null,
      "name": "job_start_datetime",
      "options": {
       "widgetDisplayType": "Text",
       "validationRegex": null
      },
      "parameterDataType": "String"
     },
     "widgetInfo": {
      "widgetType": "text",
      "defaultValue": "",
      "label": null,
      "name": "job_start_datetime",
      "options": {
       "widgetType": "text",
       "autoCreated": null,
       "validationRegex": null
      }
     }
    },
    "target_table_name": {
     "currentValue": "kdayno_gold_SP500_stock_financial_ratios_agg",
     "nuid": "dcfd66e0-2a43-4200-afca-6af6cb627dfe",
     "typedWidgetInfo": {
      "autoCreated": false,
      "defaultValue": "kdayno_gold_SP500_stock_financial_ratios_agg",
      "label": null,
      "name": "target_table_name",
      "options": {
       "widgetDisplayType": "Text",
       "validationRegex": null
      },
      "parameterDataType": "String"
     },
     "widgetInfo": {
      "widgetType": "text",
      "defaultValue": "kdayno_gold_SP500_stock_financial_ratios_agg",
      "label": null,
      "name": "target_table_name",
      "options": {
       "widgetType": "text",
       "autoCreated": null,
       "validationRegex": null
      }
     }
    },
    "task_name": {
     "currentValue": "",
     "nuid": "5861f627-73ad-49d3-b16e-28c5c0833201",
     "typedWidgetInfo": {
      "autoCreated": false,
      "defaultValue": "",
      "label": null,
      "name": "task_name",
      "options": {
       "widgetDisplayType": "Text",
       "validationRegex": null
      },
      "parameterDataType": "String"
     },
     "widgetInfo": {
      "widgetType": "text",
      "defaultValue": "",
      "label": null,
      "name": "task_name",
      "options": {
       "widgetType": "text",
       "autoCreated": null,
       "validationRegex": null
      }
     }
    },
    "task_run_id": {
     "currentValue": "",
     "nuid": "e02530c5-6181-42a4-b211-557ea01d0470",
     "typedWidgetInfo": {
      "autoCreated": false,
      "defaultValue": "",
      "label": null,
      "name": "task_run_id",
      "options": {
       "widgetDisplayType": "Text",
       "validationRegex": null
      },
      "parameterDataType": "String"
     },
     "widgetInfo": {
      "widgetType": "text",
      "defaultValue": "",
      "label": null,
      "name": "task_run_id",
      "options": {
       "widgetType": "text",
       "autoCreated": null,
       "validationRegex": null
      }
     }
    }
   }
  },
  "language_info": {
   "name": "python"
  }
 },
 "nbformat": 4,
 "nbformat_minor": 0
}
