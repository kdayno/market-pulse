{
 "cells": [
  {
   "cell_type": "markdown",
   "metadata": {
    "application/vnd.databricks.v1+cell": {
     "cellMetadata": {},
     "inputWidgets": {},
     "nuid": "dd8e39b5-5dad-4272-9ae5-754b480d1524",
     "showTitle": false,
     "tableResultSettingsMap": {},
     "title": ""
    }
   },
   "source": [
    "## Pipeline Parameters"
   ]
  },
  {
   "cell_type": "code",
   "execution_count": 0,
   "metadata": {
    "application/vnd.databricks.v1+cell": {
     "cellMetadata": {
      "byteLimit": 2048000,
      "rowLimit": 10000
     },
     "inputWidgets": {},
     "nuid": "2ec67c75-c3cb-42ea-ab1f-756e35c08389",
     "showTitle": false,
     "tableResultSettingsMap": {},
     "title": ""
    }
   },
   "outputs": [],
   "source": [
    "dbutils.widgets.text(\"target_table_name\", 'kdayno_gold_SP500_stock_financial_ratios_agg')\n",
    "\n",
    "target_table_name = dbutils.widgets.get(\"target_table_name\")"
   ]
  },
  {
   "cell_type": "code",
   "execution_count": 0,
   "metadata": {
    "application/vnd.databricks.v1+cell": {
     "cellMetadata": {
      "byteLimit": 2048000,
      "rowLimit": 10000
     },
     "inputWidgets": {},
     "nuid": "28cb4979-d534-41c6-b91e-de461211ee86",
     "showTitle": false,
     "tableResultSettingsMap": {},
     "title": ""
    }
   },
   "outputs": [],
   "source": [
    "# Standard library imports\n",
    "import os\n",
    "\n",
    "# Third-party library imports\n",
    "from dotenv import load_dotenv"
   ]
  },
  {
   "cell_type": "code",
   "execution_count": 0,
   "metadata": {
    "application/vnd.databricks.v1+cell": {
     "cellMetadata": {
      "byteLimit": 2048000,
      "rowLimit": 10000
     },
     "inputWidgets": {},
     "nuid": "10ce2fda-f04d-454d-8fad-fb2718b5ee66",
     "showTitle": false,
     "tableResultSettingsMap": {},
     "title": ""
    }
   },
   "outputs": [],
   "source": [
    "load_dotenv()\n",
    "\n",
    "catalog_name = os.getenv('DATABRICKS_CATALOG_NAME')\n",
    "schema_name = os.getenv('DATABRICKS_SCHEMA_NAME')"
   ]
  },
  {
   "cell_type": "code",
   "execution_count": 0,
   "metadata": {
    "application/vnd.databricks.v1+cell": {
     "cellMetadata": {
      "byteLimit": 2048000,
      "rowLimit": 10000
     },
     "inputWidgets": {},
     "nuid": "3df124eb-fc7e-4402-b6a6-e2ed1b87b2d8",
     "showTitle": false,
     "tableResultSettingsMap": {},
     "title": ""
    }
   },
   "outputs": [],
   "source": [
    "print(f\"Running aggregate process... \")\n",
    "\n",
    "SP500_stock_financial_ratios_agg_df = spark.sql(\n",
    "    f\"\"\"\n",
    "    SELECT \n",
    "        ticker_symbol\n",
    "        , company_name\n",
    "        , gics_sector\n",
    "        , COALESCE(price_to_earnings_ratio, 0) AS price_to_earnings_ratio\n",
    "        , COALESCE(return_on_equity_ratio, 0) AS return_on_equity_ratio\n",
    "        , COALESCE(debt_to_equity_ratio, 0) AS debt_to_equity_ratio\n",
    "        , COALESCE(market_capitalization, 0) AS market_capitalization\n",
    "        , AVG(price_to_earnings_ratio) OVER(PARTITION BY gics_sector) AS sector_average_price_to_earnings_ratio\n",
    "        , AVG(return_on_equity_ratio) OVER(PARTITION BY gics_sector) AS sector_average_return_on_equity_ratio\n",
    "        , AVG(debt_to_equity_ratio) OVER(PARTITION BY gics_sector) AS sector_average_debt_to_equity_ratio\n",
    "        , AVG(market_capitalization) OVER(PARTITION BY gics_sector) AS sector_average_market_capitalization\n",
    "    FROM {catalog_name}.{schema_name}.kdayno_silver_SP500_stock_financials\n",
    "    \"\"\")"
   ]
  },
  {
   "cell_type": "code",
   "execution_count": 0,
   "metadata": {
    "application/vnd.databricks.v1+cell": {
     "cellMetadata": {
      "byteLimit": 2048000,
      "rowLimit": 10000
     },
     "inputWidgets": {},
     "nuid": "e4b653be-c22c-40b4-b064-cc332a094bba",
     "showTitle": false,
     "tableResultSettingsMap": {},
     "title": ""
    }
   },
   "outputs": [],
   "source": [
    "print(f\"Loading data to target table: {catalog_name}.{schema_name}.{target_table_name}\")\n",
    "\n",
    "(SP500_stock_financial_ratios_agg_df.write.format('delta')\n",
    "                                .mode('overwrite')\n",
    "                                .saveAsTable(f'{catalog_name}.{schema_name}.{target_table_name}'))"
   ]
  },
  {
   "cell_type": "code",
   "execution_count": 0,
   "metadata": {
    "application/vnd.databricks.v1+cell": {
     "cellMetadata": {
      "byteLimit": 2048000,
      "rowLimit": 10000
     },
     "inputWidgets": {},
     "nuid": "b72710eb-f1ef-41a1-a520-9dcd7a52d402",
     "showTitle": false,
     "tableResultSettingsMap": {},
     "title": ""
    }
   },
   "outputs": [],
   "source": []
  }
 ],
 "metadata": {
  "application/vnd.databricks.v1+notebook": {
   "computePreferences": null,
   "dashboards": [],
   "environmentMetadata": {
    "base_environment": "",
    "environment_version": "2"
   },
   "language": "python",
   "notebookMetadata": {
    "mostRecentlyExecutedCommandWithImplicitDF": {
     "commandId": 7451663135488508,
     "dataframes": [
      "_sqldf"
     ]
    },
    "pythonIndentUnit": 4
   },
   "notebookName": "SP500_stock_financial_ratios_agg",
   "widgets": {
    "target_table_name": {
     "currentValue": "kdayno_gold_SP500_stock_financial_ratios_agg",
     "nuid": "dcfd66e0-2a43-4200-afca-6af6cb627dfe",
     "typedWidgetInfo": {
      "autoCreated": false,
      "defaultValue": "kdayno_gold_SP500_stock_financial_ratios_agg",
      "label": null,
      "name": "target_table_name",
      "options": {
       "widgetDisplayType": "Text",
       "validationRegex": null
      },
      "parameterDataType": "String"
     },
     "widgetInfo": {
      "widgetType": "text",
      "defaultValue": "kdayno_gold_SP500_stock_financial_ratios_agg",
      "label": null,
      "name": "target_table_name",
      "options": {
       "widgetType": "text",
       "autoCreated": null,
       "validationRegex": null
      }
     }
    }
   }
  },
  "language_info": {
   "name": "python"
  }
 },
 "nbformat": 4,
 "nbformat_minor": 0
}
