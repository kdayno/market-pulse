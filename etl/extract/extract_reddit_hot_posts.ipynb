{
 "cells": [
  {
   "cell_type": "markdown",
   "metadata": {
    "application/vnd.databricks.v1+cell": {
     "cellMetadata": {
      "byteLimit": 2048000,
      "rowLimit": 10000
     },
     "inputWidgets": {},
     "nuid": "1a192ebb-61dd-4afa-b6b8-b3e001e44190",
     "showTitle": false,
     "tableResultSettingsMap": {},
     "title": ""
    }
   },
   "source": [
    "## Pipeline Parameters"
   ]
  },
  {
   "cell_type": "code",
   "execution_count": 0,
   "metadata": {
    "application/vnd.databricks.v1+cell": {
     "cellMetadata": {
      "byteLimit": 2048000,
      "rowLimit": 10000
     },
     "inputWidgets": {},
     "nuid": "0a1c1712-8be0-40d3-b09f-97fae56c3950",
     "showTitle": false,
     "tableResultSettingsMap": {},
     "title": ""
    }
   },
   "outputs": [],
   "source": [
    "dbutils.widgets.dropdown('input_time_filter', 'month', ['year', 'month', 'day'])\n",
    "\n",
    "input_time_filter = dbutils.widgets.get(\"input_time_filter\")"
   ]
  },
  {
   "cell_type": "code",
   "execution_count": 0,
   "metadata": {
    "application/vnd.databricks.v1+cell": {
     "cellMetadata": {
      "byteLimit": 2048000,
      "rowLimit": 10000
     },
     "inputWidgets": {},
     "nuid": "b363ac52-8ae5-4157-8bce-335a25bc4792",
     "showTitle": false,
     "tableResultSettingsMap": {},
     "title": ""
    }
   },
   "outputs": [],
   "source": [
    "# Standard library imports\n",
    "import datetime as dt\n",
    "import os\n",
    "import time\n",
    "\n",
    "# Third-party library imports\n",
    "import asyncpraw\n",
    "import pandas as pd\n",
    "from dotenv import load_dotenv\n",
    "from pyspark.sql.functions import current_timestamp\n",
    "from pyspark.sql.types import (\n",
    "    DateType,\n",
    "    BooleanType,\n",
    "    FloatType,\n",
    "    IntegerType,\n",
    "    StringType,\n",
    "    StructField,\n",
    "    StructType,\n",
    "    TimestampType\n",
    ")\n",
    "\n",
    "load_dotenv()\n",
    "\n",
    "reddit_api_client_id = os.getenv('REDDIT_API_CLIENT_ID')\n",
    "reddit_api_client_secret = os.getenv('REDDIT_API_CLIENT_SECRET')\n",
    "reddit_api_user_agent = os.getenv('REDDIT_API_USER_AGENT')\n",
    "catalog_name = os.getenv('DATABRICKS_CATALOG_NAME')\n",
    "schema_name = os.getenv('DATABRICKS_SCHEMA_NAME')\n",
    "\n",
    "reddit = asyncpraw.Reddit(\n",
    "    client_id=reddit_api_client_id,\n",
    "    client_secret=reddit_api_client_secret,\n",
    "    user_agent=reddit_api_user_agent,\n",
    "    ratelimit_seconds=600\n",
    ")"
   ]
  },
  {
   "cell_type": "code",
   "execution_count": 0,
   "metadata": {
    "application/vnd.databricks.v1+cell": {
     "cellMetadata": {
      "byteLimit": 2048000,
      "rowLimit": 10000
     },
     "inputWidgets": {},
     "nuid": "b43e5050-c494-4f62-a73c-12aa3e32495a",
     "showTitle": false,
     "tableResultSettingsMap": {},
     "title": ""
    }
   },
   "outputs": [],
   "source": [
    "reddit_post_schema = StructType([\n",
    "    StructField(\"company_name\", StringType(), True),\n",
    "    StructField(\"post_id\", StringType(), True),\n",
    "    StructField(\"post_title\", StringType(), True),\n",
    "    StructField(\"subreddit_id\", StringType(), True),\n",
    "    StructField(\"subreddit\", StringType(), True),\n",
    "    StructField(\"created_utc\", DateType(), True),\n",
    "    StructField(\"score\", IntegerType(), True),\n",
    "    StructField(\"upvote_ratio\", FloatType(), True),\n",
    "    StructField(\"num_comments\", IntegerType(), True),\n",
    "    StructField(\"post_body_text\", StringType(), True),\n",
    "    StructField(\"is_self_post\", BooleanType(), True),\n",
    "    StructField(\"is_original_content\", BooleanType(), True),\n",
    "    StructField(\"permalink\", StringType(), True),\n",
    "    StructField(\"post_url\", StringType(), True)\n",
    "])"
   ]
  },
  {
   "cell_type": "markdown",
   "metadata": {
    "application/vnd.databricks.v1+cell": {
     "cellMetadata": {
      "byteLimit": 2048000,
      "rowLimit": 10000
     },
     "inputWidgets": {},
     "nuid": "23d2d0c0-bbd7-4142-a087-c45ccfd079d6",
     "showTitle": false,
     "tableResultSettingsMap": {},
     "title": ""
    }
   },
   "source": [
    "## Get S&P 500 Company Names"
   ]
  },
  {
   "cell_type": "code",
   "execution_count": 0,
   "metadata": {
    "application/vnd.databricks.v1+cell": {
     "cellMetadata": {
      "byteLimit": 2048000,
      "rowLimit": 10000
     },
     "inputWidgets": {},
     "nuid": "0691d665-cb5d-49bb-8936-dff3e800218d",
     "showTitle": false,
     "tableResultSettingsMap": {},
     "title": ""
    }
   },
   "outputs": [],
   "source": [
    "SP500_companies = (spark.read.table(f'{catalog_name}.{schema_name}.kdayno_bronze_SP500_companies')\n",
    "                  .select('company_name'))\n",
    "\n",
    "SP500_companies_list = [row['company_name'] for row in SP500_companies.collect()]"
   ]
  },
  {
   "cell_type": "markdown",
   "metadata": {
    "application/vnd.databricks.v1+cell": {
     "cellMetadata": {
      "byteLimit": 2048000,
      "rowLimit": 10000
     },
     "inputWidgets": {},
     "nuid": "f579dd81-533f-4eaa-b154-d4757d398178",
     "showTitle": false,
     "tableResultSettingsMap": {},
     "title": ""
    }
   },
   "source": [
    "## Extract and Load \"Hot\" Posts data from multiple Subreddits"
   ]
  },
  {
   "cell_type": "code",
   "execution_count": 0,
   "metadata": {
    "application/vnd.databricks.v1+cell": {
     "cellMetadata": {
      "byteLimit": 2048000,
      "rowLimit": 10000
     },
     "inputWidgets": {},
     "nuid": "a9b3fbf3-c571-489e-8ce9-f5a578924bc7",
     "showTitle": false,
     "tableResultSettingsMap": {},
     "title": ""
    }
   },
   "outputs": [],
   "source": [
    "subreddits = ['stocks', 'investing', 'trading', 'wallstreetbets']\n",
    "keywords = SP500_companies_list"
   ]
  },
  {
   "cell_type": "code",
   "execution_count": 0,
   "metadata": {
    "application/vnd.databricks.v1+cell": {
     "cellMetadata": {
      "byteLimit": 2048000,
      "rowLimit": 10000
     },
     "inputWidgets": {},
     "nuid": "6597f258-72b5-4dcc-a559-9a49cbe6e4cd",
     "showTitle": false,
     "tableResultSettingsMap": {},
     "title": ""
    }
   },
   "outputs": [],
   "source": [
    "spark.sql(f\"\"\"DELETE FROM {catalog_name}.{schema_name}.kdayno_bronze_reddit_hot_posts\"\"\")"
   ]
  },
  {
   "cell_type": "code",
   "execution_count": 0,
   "metadata": {
    "application/vnd.databricks.v1+cell": {
     "cellMetadata": {
      "byteLimit": 2048000,
      "rowLimit": 10000
     },
     "inputWidgets": {},
     "nuid": "ba116925-3b98-4294-be1d-f76144dc06b8",
     "showTitle": false,
     "tableResultSettingsMap": {},
     "title": ""
    }
   },
   "outputs": [],
   "source": [
    "keyword_count = 0\n",
    "\n",
    "for subreddit in subreddits:\n",
    "\n",
    "    sr = await reddit.subreddit(f\"{subreddit}\")\n",
    "\n",
    "    post_data = {'company_name':[], 'post_id':[], 'post_title':[], 'subreddit_id':[], 'subreddit':[],  \n",
    "                 'created_utc':[], 'score':[], 'upvote_ratio':[],'num_comments':[], 'post_body_text':[], \n",
    "                 'is_self_post':[], 'is_original_content':[], 'permalink':[], 'post_url':[] }\n",
    "\n",
    "    for keyword in keywords:  \n",
    "\n",
    "        print(f'Getting data for company: {keyword} ...')\n",
    "\n",
    "        posts = sr.search(keyword, sort='hot', time_filter=input_time_filter, limit=500)\n",
    "\n",
    "        async for post in posts:\n",
    "\n",
    "            print(f'Getting data for post: {post.title} ...')\n",
    "\n",
    "            post_data['company_name'].append(str(keyword))\n",
    "            post_data['post_id'].append(post.id)\n",
    "            post_data['post_title'].append(post.title) \n",
    "            post_data['subreddit_id'].append(post.subreddit_id)\n",
    "            post_data['subreddit'].append(str(post.subreddit))\n",
    "            post_data['created_utc'].append(dt.datetime.fromtimestamp(post.created_utc))\n",
    "            post_data['score'].append(post.score)\n",
    "            post_data['upvote_ratio'].append(post.upvote_ratio)\n",
    "            post_data['num_comments'].append(post.num_comments)\n",
    "            post_data['post_body_text'].append(post.selftext)\n",
    "            post_data['is_self_post'].append(post.is_self)\n",
    "            post_data['is_original_content'].append(post.is_original_content)\n",
    "            post_data['permalink'].append(post.permalink)\n",
    "            post_data['post_url'].append(post.url)\n",
    "        \n",
    "        keyword_count += 1\n",
    "        if keyword_count % 100 == 0:\n",
    "            print(\"Pausing for 60 seconds to avoid hitting API rate limits...\")\n",
    "            time.sleep(60)\n",
    "\n",
    "    # Unpacks the dict values, creates tuples, then converts to a list of tuples, where each tuple contains the data for a given Reddit post\n",
    "    reddit_hot_posts_df = spark.createDataFrame(list(zip(*post_data.values())), reddit_post_schema)\n",
    "    \n",
    "    reddit_hot_posts_df = reddit_hot_posts_df.withColumn('load_date_ts', current_timestamp())\n",
    "\n",
    "    (reddit_hot_posts_df.write.format(\"delta\")\n",
    "                              .mode(\"append\")\n",
    "                              .partitionBy('subreddit')\n",
    "                              .saveAsTable(f'{catalog_name}.{schema_name}.kdayno_bronze_reddit_hot_posts'))"
   ]
  },
  {
   "cell_type": "code",
   "execution_count": 0,
   "metadata": {
    "application/vnd.databricks.v1+cell": {
     "cellMetadata": {
      "byteLimit": 2048000,
      "rowLimit": 10000
     },
     "inputWidgets": {},
     "nuid": "163f05ab-2df0-41a4-a6c1-76d616c8387e",
     "showTitle": false,
     "tableResultSettingsMap": {},
     "title": ""
    }
   },
   "outputs": [],
   "source": []
  }
 ],
 "metadata": {
  "application/vnd.databricks.v1+notebook": {
   "computePreferences": null,
   "dashboards": [],
   "environmentMetadata": {
    "base_environment": "",
    "environment_version": "2"
   },
   "language": "python",
   "notebookMetadata": {
    "mostRecentlyExecutedCommandWithImplicitDF": {
     "commandId": 6368848666126293,
     "dataframes": [
      "_sqldf"
     ]
    },
    "pythonIndentUnit": 4
   },
   "notebookName": "extract_reddit_hot_posts",
   "widgets": {
    "input_time_filter": {
     "currentValue": "month",
     "nuid": "b9bc7f6d-b0e6-4d50-a64b-a210d28338a6",
     "typedWidgetInfo": {
      "autoCreated": false,
      "defaultValue": "month",
      "label": null,
      "name": "input_time_filter",
      "options": {
       "widgetDisplayType": "Dropdown",
       "choices": [
        "year",
        "month",
        "day"
       ],
       "fixedDomain": true,
       "multiselect": false
      },
      "parameterDataType": "String"
     },
     "widgetInfo": {
      "widgetType": "dropdown",
      "defaultValue": "month",
      "label": null,
      "name": "input_time_filter",
      "options": {
       "widgetType": "dropdown",
       "autoCreated": null,
       "choices": [
        "year",
        "month",
        "day"
       ]
      }
     }
    }
   }
  },
  "language_info": {
   "name": "python"
  }
 },
 "nbformat": 4,
 "nbformat_minor": 0
}
