{
 "cells": [
  {
   "cell_type": "markdown",
   "metadata": {
    "application/vnd.databricks.v1+cell": {
     "cellMetadata": {
      "byteLimit": 2048000,
      "rowLimit": 10000
     },
     "inputWidgets": {},
     "nuid": "0c416ed9-937c-4141-a9cf-718530f2a567",
     "showTitle": false,
     "tableResultSettingsMap": {},
     "title": ""
    }
   },
   "source": [
    "## Pipeline Parameters"
   ]
  },
  {
   "cell_type": "code",
   "execution_count": 0,
   "metadata": {
    "application/vnd.databricks.v1+cell": {
     "cellMetadata": {
      "byteLimit": 2048000,
      "rowLimit": 10000
     },
     "inputWidgets": {},
     "nuid": "80889c9f-80c4-4cc3-974f-d6516bda6485",
     "showTitle": false,
     "tableResultSettingsMap": {},
     "title": ""
    }
   },
   "outputs": [],
   "source": [
    "dbutils.widgets.text(\"input_load_date\", \"YYYY-MM-DD\", \"Input Load Date\")\n",
    "\n",
    "# Audit Parameters\n",
    "dbutils.widgets.text(\"job_id\", \"\")\n",
    "dbutils.widgets.text(\"job_name\", \"\")\n",
    "dbutils.widgets.text(\"job_start_date\", \"\")\n",
    "dbutils.widgets.text(\"job_start_datetime\", \"\")\n",
    "dbutils.widgets.text(\"task_run_id\", \"\")\n",
    "dbutils.widgets.text(\"task_name\", \"\")"
   ]
  },
  {
   "cell_type": "code",
   "execution_count": 0,
   "metadata": {
    "application/vnd.databricks.v1+cell": {
     "cellMetadata": {
      "byteLimit": 2048000,
      "rowLimit": 10000
     },
     "inputWidgets": {},
     "nuid": "1c93a723-34ea-4f5f-91b8-07792df03c7a",
     "showTitle": false,
     "tableResultSettingsMap": {},
     "title": ""
    }
   },
   "outputs": [],
   "source": [
    "%run ../utils/aws_secret_manager"
   ]
  },
  {
   "cell_type": "code",
   "execution_count": 0,
   "metadata": {
    "application/vnd.databricks.v1+cell": {
     "cellMetadata": {
      "byteLimit": 2048000,
      "rowLimit": 10000
     },
     "inputWidgets": {},
     "nuid": "8afb778f-b8e3-493c-a605-62981b3135b0",
     "showTitle": false,
     "tableResultSettingsMap": {},
     "title": ""
    }
   },
   "outputs": [],
   "source": [
    "%run ../utils/loggers"
   ]
  },
  {
   "cell_type": "code",
   "execution_count": 0,
   "metadata": {
    "application/vnd.databricks.v1+cell": {
     "cellMetadata": {
      "byteLimit": 2048000,
      "rowLimit": 10000
     },
     "inputWidgets": {},
     "nuid": "776764db-2d5f-4894-aa6b-a2daddedfa3e",
     "showTitle": false,
     "tableResultSettingsMap": {},
     "title": ""
    }
   },
   "outputs": [],
   "source": [
    "# Standard library imports\n",
    "import csv\n",
    "import datetime as dt\n",
    "import os\n",
    "from ast import literal_eval\n",
    "\n",
    "# Third-party library imports\n",
    "import pyarrow as pa\n",
    "import requests as r\n",
    "from dotenv import load_dotenv\n",
    "from pyspark.sql.functions import cast, col, current_timestamp, current_date\n",
    "from pyspark.sql.types import (\n",
    "    DateType,\n",
    "    DecimalType,\n",
    "    DoubleType,\n",
    "    IntegerType,\n",
    "    StringType,\n",
    "    StructField,\n",
    "    StructType,\n",
    "    TimestampType\n",
    ")"
   ]
  },
  {
   "cell_type": "code",
   "execution_count": 0,
   "metadata": {
    "application/vnd.databricks.v1+cell": {
     "cellMetadata": {
      "byteLimit": 2048000,
      "rowLimit": 10000
     },
     "inputWidgets": {},
     "nuid": "9da76bd9-b61a-4461-9df3-1821c8254820",
     "showTitle": false,
     "tableResultSettingsMap": {},
     "title": ""
    }
   },
   "outputs": [],
   "source": [
    "load_dotenv()\n",
    "\n",
    "raw_zone_path = os.getenv('RAW_ZONE_PATH')\n",
    "input_load_date = dbutils.widgets.get(\"input_load_date\")\n",
    "\n",
    "catalog_name = os.getenv('DATABRICKS_CATALOG_NAME')\n",
    "schema_name = os.getenv('DATABRICKS_SCHEMA_NAME')\n",
    "\n",
    "source_table_name = 'kdayno_bronze_SP500_companies'\n",
    "target_table_name = 'kdayno_bronze_SP500_stock_prices'\n",
    "\n",
    "# Audit Variables\n",
    "job_id = dbutils.widgets.get('job_id')\n",
    "job_name = dbutils.widgets.get('job_name')\n",
    "job_start_date = dbutils.widgets.get('job_start_date')\n",
    "job_start_datetime = dbutils.widgets.get('job_start_datetime')\n",
    "task_run_id = dbutils.widgets.get('task_run_id')\n",
    "task_name = dbutils.widgets.get('task_name')\n",
    "\n",
    "\n",
    "stock_price_schema = StructType([\n",
    "    StructField(\"ticker_symbol\", StringType(), True),\n",
    "    StructField(\"open_price\", StringType(), True),\n",
    "    StructField(\"close_price\", StringType(), True),\n",
    "    StructField(\"highest_price\", StringType(), True),\n",
    "    StructField(\"lowest_price\", StringType(), True),\n",
    "    StructField(\"trading_date\", DateType(), True)\n",
    "])"
   ]
  },
  {
   "cell_type": "markdown",
   "metadata": {
    "application/vnd.databricks.v1+cell": {
     "cellMetadata": {
      "byteLimit": 2048000,
      "rowLimit": 10000
     },
     "inputWidgets": {},
     "nuid": "1c58dc48-ec28-4444-90fd-6b9bc670799a",
     "showTitle": false,
     "tableResultSettingsMap": {},
     "title": ""
    }
   },
   "source": [
    "## Pipeline Logging"
   ]
  },
  {
   "cell_type": "code",
   "execution_count": 0,
   "metadata": {
    "application/vnd.databricks.v1+cell": {
     "cellMetadata": {
      "byteLimit": 2048000,
      "rowLimit": 10000
     },
     "inputWidgets": {},
     "nuid": "072723e9-0bd2-4d28-bc04-d33575e74150",
     "showTitle": false,
     "tableResultSettingsMap": {},
     "title": ""
    }
   },
   "outputs": [],
   "source": [
    "audit_logger(job_id, job_name, input_load_date, job_start_date, job_start_datetime, task_run_id,  task_name, source_table_name, target_table_name)\n",
    "\n",
    "etl_logger = etl_logger()"
   ]
  },
  {
   "cell_type": "code",
   "execution_count": 0,
   "metadata": {
    "application/vnd.databricks.v1+cell": {
     "cellMetadata": {
      "byteLimit": 2048000,
      "rowLimit": 10000
     },
     "inputWidgets": {},
     "nuid": "52475dd7-fe7d-4e5d-9ff3-dbac08758b3d",
     "showTitle": false,
     "tableResultSettingsMap": {},
     "title": ""
    }
   },
   "outputs": [],
   "source": [
    "# Checks if the stock market is open\n",
    "if dt.datetime.strptime(input_load_date,'%Y-%m-%d').weekday() > 4:\n",
    "    etl_logger.warning(f\"WARNING: Input date: {input_load_date} lands on a weekend. No data available for the specified date.\")\n",
    "    dbutils.notebook.exit('terminating ETL process')"
   ]
  },
  {
   "cell_type": "markdown",
   "metadata": {
    "application/vnd.databricks.v1+cell": {
     "cellMetadata": {
      "byteLimit": 2048000,
      "rowLimit": 10000
     },
     "inputWidgets": {},
     "nuid": "c56142b9-3be6-4f79-977f-3da8a074f420",
     "showTitle": false,
     "tableResultSettingsMap": {},
     "title": ""
    }
   },
   "source": [
    "## Load Stock Price Data for S&P500 Companies"
   ]
  },
  {
   "cell_type": "code",
   "execution_count": 0,
   "metadata": {
    "application/vnd.databricks.v1+cell": {
     "cellMetadata": {
      "byteLimit": 2048000,
      "implicitDf": true,
      "rowLimit": 10000
     },
     "inputWidgets": {},
     "nuid": "23a30cef-4b80-416d-8045-3c157eeed6b1",
     "showTitle": false,
     "tableResultSettingsMap": {},
     "title": ""
    }
   },
   "outputs": [],
   "source": [
    "SP500_tickers = (spark.read.table(f'{catalog_name}.{schema_name}.{source_table_name}')\n",
    "                  .select('ticker_symbol')\n",
    "                )\n",
    "\n",
    "SP500_tickers_list = [row['ticker_symbol'] for row in SP500_tickers.collect()]"
   ]
  },
  {
   "cell_type": "markdown",
   "metadata": {
    "application/vnd.databricks.v1+cell": {
     "cellMetadata": {
      "byteLimit": 2048000,
      "rowLimit": 10000
     },
     "inputWidgets": {},
     "nuid": "249c4700-789d-4b7a-8c30-e86fc9a0cc16",
     "showTitle": false,
     "tableResultSettingsMap": {},
     "title": ""
    }
   },
   "source": [
    "## ETL"
   ]
  },
  {
   "cell_type": "code",
   "execution_count": 0,
   "metadata": {
    "application/vnd.databricks.v1+cell": {
     "cellMetadata": {
      "byteLimit": 2048000,
      "rowLimit": 10000
     },
     "inputWidgets": {},
     "nuid": "77e4f14d-f280-4ae8-a45a-7645f337ab4e",
     "showTitle": false,
     "tableResultSettingsMap": {},
     "title": ""
    }
   },
   "outputs": [],
   "source": [
    "polygon_api_key = literal_eval(get_secret(\"POLYGON_CREDENTIALS\"))['AWS_SECRET_ACCESS_KEY']\n",
    "current_date = input_load_date\n",
    "stock_data = {'ticker_symbol':[], 'open_price':[], 'close_price':[], 'highest_price':[], 'lowest_price':[], 'trading_date':[]}\n",
    "\n",
    "etl_logger.info(f'Loading data for date: {current_date}')\n",
    "\n",
    "SP500_data_availability_check = r.get(f'https://api.polygon.io/v2/aggs/ticker/VOO/range/1/day/{current_date}/{current_date}?adjusted=true&sort=asc&apiKey={polygon_api_key}').json()['resultsCount']\n",
    "\n",
    "if SP500_data_availability_check:\n",
    "\n",
    "    for stock in SP500_tickers_list:\n",
    "        polygon_url = f\"https://api.polygon.io/v2/aggs/ticker/{stock}/range/1/day/{current_date}/{current_date}?adjusted=true&sort=asc&apiKey=\"\n",
    "\n",
    "\n",
    "        etl_logger.info(f'Getting data for ticker: {stock} ...')\n",
    "        data = r.get(f'{polygon_url}{polygon_api_key}').json()\n",
    "\n",
    "        if data['resultsCount']:\n",
    "            stock_data['ticker_symbol'].append(data['ticker'])\n",
    "            stock_data['open_price'].append(data['results'][0]['o'])\n",
    "            stock_data['close_price'].append(data['results'][0]['c'])\n",
    "            stock_data['highest_price'].append(data['results'][0]['h'])\n",
    "            stock_data['lowest_price'].append(data['results'][0]['l'])\n",
    "            stock_data['trading_date'].append(dt.datetime.fromtimestamp(data['results'][0]['t'] / 1000))\n",
    "            \n",
    "        else:\n",
    "            etl_logger.warning(f'WARNING: No data available for ticker: {stock} on the specified date: {current_date}')\n",
    "\n",
    "    stock_df = spark.createDataFrame(list(zip(*stock_data.values())), stock_price_schema)\n",
    "\n",
    "    stock_transformed_df = (stock_df.withColumn('open_price', col('open_price').cast('decimal(10,2)'))\n",
    "                                .withColumn('close_price', col('close_price').cast('decimal(10,2)'))\n",
    "                                .withColumn('highest_price', col('highest_price').cast('decimal(10,2)'))\n",
    "                                .withColumn('lowest_price', col('open_price').cast('decimal(10,2)'))\n",
    "                                .withColumn('load_date_ts', current_timestamp()))\n",
    "\n",
    "    spark.sql(f\"\"\"\n",
    "                DELETE FROM {catalog_name}.{schema_name}.{target_table_name}\n",
    "                WHERE trading_date = '{input_load_date}'\n",
    "                \"\"\")\n",
    "    \n",
    "    etl_logger.info(f'Loading: {stock_transformed_df.count()} rows to: {target_table_name}')\n",
    "\n",
    "    (stock_transformed_df.write.format(\"delta\")\n",
    "                                .mode(\"append\")\n",
    "                                .saveAsTable(f'{catalog_name}.{schema_name}.{target_table_name}'))\n",
    "\n",
    "    etl_logger.info(f'Run successful for: {current_date}')\n"
   ]
  },
  {
   "cell_type": "code",
   "execution_count": 0,
   "metadata": {
    "application/vnd.databricks.v1+cell": {
     "cellMetadata": {
      "byteLimit": 2048000,
      "rowLimit": 10000
     },
     "inputWidgets": {},
     "nuid": "dcf8250f-e261-4142-aadd-61cde97f0dfb",
     "showTitle": false,
     "tableResultSettingsMap": {},
     "title": ""
    }
   },
   "outputs": [],
   "source": []
  }
 ],
 "metadata": {
  "application/vnd.databricks.v1+notebook": {
   "computePreferences": null,
   "dashboards": [],
   "environmentMetadata": {
    "base_environment": "",
    "environment_version": "2"
   },
   "language": "python",
   "notebookMetadata": {
    "mostRecentlyExecutedCommandWithImplicitDF": {
     "commandId": 3905852250677908,
     "dataframes": [
      "_sqldf"
     ]
    },
    "pythonIndentUnit": 4
   },
   "notebookName": "extract_polygon_stock_prices",
   "widgets": {
    "input_load_date": {
     "currentValue": "2025-02-03",
     "nuid": "92af624e-c81b-4d13-887a-076dabdb565e",
     "typedWidgetInfo": {
      "autoCreated": false,
      "defaultValue": "YYYY-MM-DD",
      "label": "Input Load Date",
      "name": "input_load_date",
      "options": {
       "widgetDisplayType": "Text",
       "validationRegex": null
      },
      "parameterDataType": "String"
     },
     "widgetInfo": {
      "widgetType": "text",
      "defaultValue": "YYYY-MM-DD",
      "label": "Input Load Date",
      "name": "input_load_date",
      "options": {
       "widgetType": "text",
       "autoCreated": null,
       "validationRegex": null
      }
     }
    },
    "job_id": {
     "currentValue": "",
     "nuid": "db835ff6-a117-4a79-9820-d14c36bc5e8a",
     "typedWidgetInfo": {
      "autoCreated": false,
      "defaultValue": "",
      "label": null,
      "name": "job_id",
      "options": {
       "widgetDisplayType": "Text",
       "validationRegex": null
      },
      "parameterDataType": "String"
     },
     "widgetInfo": {
      "widgetType": "text",
      "defaultValue": "",
      "label": null,
      "name": "job_id",
      "options": {
       "widgetType": "text",
       "autoCreated": null,
       "validationRegex": null
      }
     }
    },
    "job_name": {
     "currentValue": "",
     "nuid": "09ae165b-dc7d-4b9d-836b-1e6967af9968",
     "typedWidgetInfo": {
      "autoCreated": false,
      "defaultValue": "",
      "label": null,
      "name": "job_name",
      "options": {
       "widgetDisplayType": "Text",
       "validationRegex": null
      },
      "parameterDataType": "String"
     },
     "widgetInfo": {
      "widgetType": "text",
      "defaultValue": "",
      "label": null,
      "name": "job_name",
      "options": {
       "widgetType": "text",
       "autoCreated": null,
       "validationRegex": null
      }
     }
    },
    "job_start_date": {
     "currentValue": "",
     "nuid": "f9be14e0-e8fb-43e6-8825-1c5f15ecf4f1",
     "typedWidgetInfo": {
      "autoCreated": false,
      "defaultValue": "",
      "label": null,
      "name": "job_start_date",
      "options": {
       "widgetDisplayType": "Text",
       "validationRegex": null
      },
      "parameterDataType": "String"
     },
     "widgetInfo": {
      "widgetType": "text",
      "defaultValue": "",
      "label": null,
      "name": "job_start_date",
      "options": {
       "widgetType": "text",
       "autoCreated": null,
       "validationRegex": null
      }
     }
    },
    "job_start_datetime": {
     "currentValue": "",
     "nuid": "38f46353-9b2d-4191-9010-74ceb7f72a05",
     "typedWidgetInfo": {
      "autoCreated": false,
      "defaultValue": "",
      "label": null,
      "name": "job_start_datetime",
      "options": {
       "widgetDisplayType": "Text",
       "validationRegex": null
      },
      "parameterDataType": "String"
     },
     "widgetInfo": {
      "widgetType": "text",
      "defaultValue": "",
      "label": null,
      "name": "job_start_datetime",
      "options": {
       "widgetType": "text",
       "autoCreated": null,
       "validationRegex": null
      }
     }
    },
    "target_table_name": {
     "currentValue": "",
     "nuid": "51d53692-f3bc-4413-ae3f-d69f504ede66",
     "typedWidgetInfo": {
      "autoCreated": false,
      "defaultValue": "",
      "label": null,
      "name": "target_table_name",
      "options": {
       "widgetDisplayType": "Text",
       "validationRegex": null
      },
      "parameterDataType": "String"
     },
     "widgetInfo": {
      "widgetType": "text",
      "defaultValue": "",
      "label": null,
      "name": "target_table_name",
      "options": {
       "widgetType": "text",
       "autoCreated": false,
       "validationRegex": null
      }
     }
    },
    "task_name": {
     "currentValue": "",
     "nuid": "22842ee7-c7cc-489b-88a2-0485873527fe",
     "typedWidgetInfo": {
      "autoCreated": false,
      "defaultValue": "",
      "label": null,
      "name": "task_name",
      "options": {
       "widgetDisplayType": "Text",
       "validationRegex": null
      },
      "parameterDataType": "String"
     },
     "widgetInfo": {
      "widgetType": "text",
      "defaultValue": "",
      "label": null,
      "name": "task_name",
      "options": {
       "widgetType": "text",
       "autoCreated": null,
       "validationRegex": null
      }
     }
    },
    "task_run_id": {
     "currentValue": "",
     "nuid": "abb88d20-cee9-46e4-ba80-f7890558d38e",
     "typedWidgetInfo": {
      "autoCreated": false,
      "defaultValue": "",
      "label": null,
      "name": "task_run_id",
      "options": {
       "widgetDisplayType": "Text",
       "validationRegex": null
      },
      "parameterDataType": "String"
     },
     "widgetInfo": {
      "widgetType": "text",
      "defaultValue": "",
      "label": null,
      "name": "task_run_id",
      "options": {
       "widgetType": "text",
       "autoCreated": null,
       "validationRegex": null
      }
     }
    }
   }
  },
  "language_info": {
   "name": "python"
  }
 },
 "nbformat": 4,
 "nbformat_minor": 0
}
