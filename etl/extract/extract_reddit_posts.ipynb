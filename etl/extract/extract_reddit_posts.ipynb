{
 "cells": [
  {
   "cell_type": "markdown",
   "metadata": {
    "application/vnd.databricks.v1+cell": {
     "cellMetadata": {},
     "inputWidgets": {},
     "nuid": "1a192ebb-61dd-4afa-b6b8-b3e001e44190",
     "showTitle": false,
     "tableResultSettingsMap": {},
     "title": ""
    }
   },
   "source": [
    "## Pipeline Parameters"
   ]
  },
  {
   "cell_type": "code",
   "execution_count": 0,
   "metadata": {
    "application/vnd.databricks.v1+cell": {
     "cellMetadata": {
      "byteLimit": 2048000,
      "rowLimit": 10000
     },
     "inputWidgets": {},
     "nuid": "0a1c1712-8be0-40d3-b09f-97fae56c3950",
     "showTitle": false,
     "tableResultSettingsMap": {},
     "title": ""
    }
   },
   "outputs": [],
   "source": [
    "dbutils.widgets.text('input_subreddit_list', \"['stocks', 'investing', 'trading', 'wallstreetbets']\")\n",
    "dbutils.widgets.dropdown('input_sort_type', 'top', ['relevance', 'hot', 'top', 'new', 'comments'])\n",
    "dbutils.widgets.dropdown('input_time_filter', 'month', ['day', 'month', 'year'])\n",
    "dbutils.widgets.text(\"input_number_of_posts_limit\", '500')\n",
    "dbutils.widgets.text(\"bronze_table_name\", 'kdayno_bronze_reddit_top_posts')\n",
    "\n",
    "# Audit Parameters\n",
    "dbutils.widgets.text(\"job_id\", \"\")\n",
    "dbutils.widgets.text(\"job_name\", \"\")\n",
    "dbutils.widgets.text(\"job_start_date\", \"\")\n",
    "dbutils.widgets.text(\"job_start_datetime\", \"\")\n",
    "dbutils.widgets.text(\"task_run_id\", \"\")\n",
    "dbutils.widgets.text(\"task_name\", \"\")"
   ]
  },
  {
   "cell_type": "code",
   "execution_count": 0,
   "metadata": {
    "application/vnd.databricks.v1+cell": {
     "cellMetadata": {
      "byteLimit": 2048000,
      "rowLimit": 10000
     },
     "inputWidgets": {},
     "nuid": "ecd3cd6d-7202-4325-86e7-8b01fa004685",
     "showTitle": false,
     "tableResultSettingsMap": {},
     "title": ""
    }
   },
   "outputs": [],
   "source": [
    "%run ../utils/loggers"
   ]
  },
  {
   "cell_type": "code",
   "execution_count": 0,
   "metadata": {
    "application/vnd.databricks.v1+cell": {
     "cellMetadata": {
      "byteLimit": 2048000,
      "rowLimit": 10000
     },
     "inputWidgets": {},
     "nuid": "b363ac52-8ae5-4157-8bce-335a25bc4792",
     "showTitle": false,
     "tableResultSettingsMap": {},
     "title": ""
    }
   },
   "outputs": [],
   "source": [
    "# Standard library imports\n",
    "import ast\n",
    "import datetime as dt\n",
    "import os\n",
    "import time\n",
    "\n",
    "# Third-party library imports\n",
    "import asyncpraw\n",
    "import pandas as pd\n",
    "from dotenv import load_dotenv\n",
    "from pyspark.sql.functions import current_timestamp\n",
    "from pyspark.sql.types import (\n",
    "    DateType,\n",
    "    BooleanType,\n",
    "    FloatType,\n",
    "    IntegerType,\n",
    "    StringType,\n",
    "    StructField,\n",
    "    StructType,\n",
    "    TimestampType\n",
    ")"
   ]
  },
  {
   "cell_type": "code",
   "execution_count": 0,
   "metadata": {
    "application/vnd.databricks.v1+cell": {
     "cellMetadata": {
      "byteLimit": 2048000,
      "rowLimit": 10000
     },
     "inputWidgets": {},
     "nuid": "0f8deb62-d4d8-4786-950b-dda34f2c3919",
     "showTitle": false,
     "tableResultSettingsMap": {},
     "title": ""
    }
   },
   "outputs": [],
   "source": [
    "# ETL Inputs\n",
    "input_subreddit_list = ast.literal_eval(dbutils.widgets.get(\"input_subreddit_list\"))\n",
    "input_time_filter = dbutils.widgets.get(\"input_time_filter\")\n",
    "input_sort_type = dbutils.widgets.get(\"input_sort_type\")\n",
    "input_number_of_posts_limit = int(dbutils.widgets.get(\"input_number_of_posts_limit\"))\n",
    "\n",
    "load_dotenv()\n",
    "\n",
    "source_table_name = 'kdayno_bronze_SP500_companies'\n",
    "target_bronze_table_name = dbutils.widgets.get(\"bronze_table_name\")\n",
    "catalog_name = os.getenv('DATABRICKS_CATALOG_NAME')\n",
    "schema_name = os.getenv('DATABRICKS_SCHEMA_NAME')\n",
    "\n",
    "# Reddit API Credentials\n",
    "reddit_api_client_id = os.getenv('REDDIT_API_CLIENT_ID')\n",
    "reddit_api_client_secret = os.getenv('REDDIT_API_CLIENT_SECRET')\n",
    "reddit_api_user_agent = os.getenv('REDDIT_API_USER_AGENT')\n",
    "\n",
    "# Audit Variables\n",
    "job_id = dbutils.widgets.get('job_id')\n",
    "job_name = dbutils.widgets.get('job_name')\n",
    "job_start_date = dbutils.widgets.get('job_start_date')\n",
    "job_start_datetime = dbutils.widgets.get('job_start_datetime')\n",
    "task_run_id = dbutils.widgets.get('task_run_id')\n",
    "task_name = dbutils.widgets.get('task_name')\n",
    "\n",
    "reddit_post_schema = StructType([\n",
    "    StructField(\"company_name\", StringType(), True),\n",
    "    StructField(\"post_id\", StringType(), True),\n",
    "    StructField(\"post_title\", StringType(), True),\n",
    "    StructField(\"subreddit_id\", StringType(), True),\n",
    "    StructField(\"subreddit\", StringType(), True),\n",
    "    StructField(\"created_utc\", DateType(), True),\n",
    "    StructField(\"score\", IntegerType(), True),\n",
    "    StructField(\"upvote_ratio\", FloatType(), True),\n",
    "    StructField(\"num_comments\", IntegerType(), True),\n",
    "    StructField(\"post_body_text\", StringType(), True),\n",
    "    StructField(\"is_self_post\", BooleanType(), True),\n",
    "    StructField(\"is_original_content\", BooleanType(), True),\n",
    "    StructField(\"permalink\", StringType(), True),\n",
    "    StructField(\"post_url\", StringType(), True)\n",
    "])"
   ]
  },
  {
   "cell_type": "markdown",
   "metadata": {
    "application/vnd.databricks.v1+cell": {
     "cellMetadata": {},
     "inputWidgets": {},
     "nuid": "6fc6769b-6dca-4986-a850-7b1dd4d5d44d",
     "showTitle": false,
     "tableResultSettingsMap": {},
     "title": ""
    }
   },
   "source": [
    "## Pipeline Logging"
   ]
  },
  {
   "cell_type": "code",
   "execution_count": 0,
   "metadata": {
    "application/vnd.databricks.v1+cell": {
     "cellMetadata": {
      "byteLimit": 2048000,
      "rowLimit": 10000
     },
     "inputWidgets": {},
     "nuid": "b6dfa0bc-0029-431a-b232-71c4aae2f719",
     "showTitle": false,
     "tableResultSettingsMap": {},
     "title": ""
    }
   },
   "outputs": [],
   "source": [
    "input_params_at_run_time = [input_subreddit_list, input_time_filter, input_sort_type, input_number_of_posts_limit]\n",
    "\n",
    "audit_logger(job_id, job_name, input_params_at_run_time, job_start_date, job_start_datetime, task_run_id,  task_name, source_table_name, target_bronze_table_name)\n",
    "\n",
    "etl_logger = etl_logger()"
   ]
  },
  {
   "cell_type": "markdown",
   "metadata": {
    "application/vnd.databricks.v1+cell": {
     "cellMetadata": {},
     "inputWidgets": {},
     "nuid": "23d2d0c0-bbd7-4142-a087-c45ccfd079d6",
     "showTitle": false,
     "tableResultSettingsMap": {},
     "title": ""
    }
   },
   "source": [
    "## Get S&P 500 Company Names"
   ]
  },
  {
   "cell_type": "code",
   "execution_count": 0,
   "metadata": {
    "application/vnd.databricks.v1+cell": {
     "cellMetadata": {
      "byteLimit": 2048000,
      "rowLimit": 10000
     },
     "inputWidgets": {},
     "nuid": "0691d665-cb5d-49bb-8936-dff3e800218d",
     "showTitle": false,
     "tableResultSettingsMap": {},
     "title": ""
    }
   },
   "outputs": [],
   "source": [
    "SP500_companies = (spark.read.table(f'{catalog_name}.{schema_name}.{source_table_name}')\n",
    "                  .select('company_name'))\n",
    "\n",
    "SP500_companies_list = [row['company_name'] for row in SP500_companies.collect()]"
   ]
  },
  {
   "cell_type": "markdown",
   "metadata": {
    "application/vnd.databricks.v1+cell": {
     "cellMetadata": {},
     "inputWidgets": {},
     "nuid": "f579dd81-533f-4eaa-b154-d4757d398178",
     "showTitle": false,
     "tableResultSettingsMap": {},
     "title": ""
    }
   },
   "source": [
    "## Extract and Load Posts data from multiple Subreddits"
   ]
  },
  {
   "cell_type": "code",
   "execution_count": 0,
   "metadata": {
    "application/vnd.databricks.v1+cell": {
     "cellMetadata": {
      "byteLimit": 2048000,
      "rowLimit": 10000
     },
     "inputWidgets": {},
     "nuid": "a9b3fbf3-c571-489e-8ce9-f5a578924bc7",
     "showTitle": false,
     "tableResultSettingsMap": {},
     "title": ""
    }
   },
   "outputs": [],
   "source": [
    "reddit = asyncpraw.Reddit(\n",
    "    client_id=reddit_api_client_id,\n",
    "    client_secret=reddit_api_client_secret,\n",
    "    user_agent=reddit_api_user_agent,\n",
    "    ratelimit_seconds=600\n",
    ")\n",
    "\n",
    "subreddits = input_subreddit_list\n",
    "keywords = SP500_companies_list"
   ]
  },
  {
   "cell_type": "code",
   "execution_count": 0,
   "metadata": {
    "application/vnd.databricks.v1+cell": {
     "cellMetadata": {
      "byteLimit": 2048000,
      "rowLimit": 10000
     },
     "inputWidgets": {},
     "nuid": "6597f258-72b5-4dcc-a559-9a49cbe6e4cd",
     "showTitle": false,
     "tableResultSettingsMap": {},
     "title": ""
    }
   },
   "outputs": [],
   "source": [
    "spark.sql(f\"\"\"DELETE FROM {catalog_name}.{schema_name}.{target_bronze_table_name}\"\"\")"
   ]
  },
  {
   "cell_type": "code",
   "execution_count": 0,
   "metadata": {
    "application/vnd.databricks.v1+cell": {
     "cellMetadata": {
      "byteLimit": 2048000,
      "rowLimit": 10000
     },
     "inputWidgets": {},
     "nuid": "ba116925-3b98-4294-be1d-f76144dc06b8",
     "showTitle": false,
     "tableResultSettingsMap": {},
     "title": ""
    }
   },
   "outputs": [],
   "source": [
    "keyword_count = 0\n",
    "\n",
    "for subreddit in subreddits:\n",
    "\n",
    "    etl_logger.info(f'Processing subreddit: r/{subreddit} ...')\n",
    "\n",
    "    sr = await reddit.subreddit(f\"{subreddit}\")\n",
    "\n",
    "    post_data = {'company_name':[], 'post_id':[], 'post_title':[], 'subreddit_id':[], 'subreddit':[],  \n",
    "                 'created_utc':[], 'score':[], 'upvote_ratio':[],'num_comments':[], 'post_body_text':[], \n",
    "                 'is_self_post':[], 'is_original_content':[], 'permalink':[], 'post_url':[] }\n",
    "\n",
    "    for keyword in keywords:  \n",
    "\n",
    "        etl_logger.info(f'Getting data for company: {keyword} ...')\n",
    "\n",
    "        posts = sr.search(keyword, sort=input_sort_type, time_filter=input_time_filter, limit=input_number_of_posts_limit)\n",
    "\n",
    "        async for post in posts:\n",
    "\n",
    "            etl_logger.info(f'Getting data for post: {post.title} ...')\n",
    "\n",
    "            post_data['company_name'].append(str(keyword))\n",
    "            post_data['post_id'].append(post.id)\n",
    "            post_data['post_title'].append(post.title) \n",
    "            post_data['subreddit_id'].append(post.subreddit_id)\n",
    "            post_data['subreddit'].append(str(post.subreddit))\n",
    "            post_data['created_utc'].append(dt.datetime.fromtimestamp(post.created_utc))\n",
    "            post_data['score'].append(post.score)\n",
    "            post_data['upvote_ratio'].append(post.upvote_ratio)\n",
    "            post_data['num_comments'].append(post.num_comments)\n",
    "            post_data['post_body_text'].append(post.selftext)\n",
    "            post_data['is_self_post'].append(post.is_self)\n",
    "            post_data['is_original_content'].append(post.is_original_content)\n",
    "            post_data['permalink'].append(post.permalink)\n",
    "            post_data['post_url'].append(post.url)\n",
    "        \n",
    "        keyword_count += 1\n",
    "        if keyword_count % 100 == 0:\n",
    "            etl_logger.info(\"Pausing for 60 seconds to avoid hitting API rate limits...\")\n",
    "            time.sleep(60)\n",
    "\n",
    "    # Unpacks the dict values, creates tuples, then converts to a list of tuples, where each tuple contains the data for a given Reddit post\n",
    "    reddit_posts_df = spark.createDataFrame(list(zip(*post_data.values())), reddit_post_schema)\n",
    "    \n",
    "    reddit_posts_df = reddit_posts_df.withColumn('load_date_ts', current_timestamp())\n",
    "\n",
    "    etl_logger.info(f'Loading: {reddit_posts_df.count()} rows to: {target_bronze_table_name}')\n",
    "\n",
    "    (reddit_posts_df.write.format(\"delta\")\n",
    "                              .mode(\"append\")\n",
    "                              .partitionBy('subreddit')\n",
    "                              .saveAsTable(f'{catalog_name}.{schema_name}.{target_bronze_table_name}'))"
   ]
  },
  {
   "cell_type": "code",
   "execution_count": 0,
   "metadata": {
    "application/vnd.databricks.v1+cell": {
     "cellMetadata": {
      "byteLimit": 2048000,
      "rowLimit": 10000
     },
     "inputWidgets": {},
     "nuid": "be21cd1d-f11e-40cd-970d-6773a34c0eac",
     "showTitle": false,
     "tableResultSettingsMap": {},
     "title": ""
    }
   },
   "outputs": [],
   "source": []
  }
 ],
 "metadata": {
  "application/vnd.databricks.v1+notebook": {
   "computePreferences": null,
   "dashboards": [],
   "environmentMetadata": {
    "base_environment": "",
    "environment_version": "2"
   },
   "language": "python",
   "notebookMetadata": {
    "mostRecentlyExecutedCommandWithImplicitDF": {
     "commandId": 2315276533878547,
     "dataframes": [
      "_sqldf"
     ]
    },
    "pythonIndentUnit": 4
   },
   "notebookName": "extract_reddit_posts",
   "widgets": {
    "bronze_table_name": {
     "currentValue": "kdayno_bronze_reddit_hot_posts",
     "nuid": "76d2a13d-0005-4713-a71d-c12f8222637a",
     "typedWidgetInfo": {
      "autoCreated": false,
      "defaultValue": "kdayno_bronze_reddit_top_posts",
      "label": null,
      "name": "bronze_table_name",
      "options": {
       "widgetDisplayType": "Text",
       "validationRegex": null
      },
      "parameterDataType": "String"
     },
     "widgetInfo": {
      "widgetType": "text",
      "defaultValue": "kdayno_bronze_reddit_top_posts",
      "label": null,
      "name": "bronze_table_name",
      "options": {
       "widgetType": "text",
       "autoCreated": null,
       "validationRegex": null
      }
     }
    },
    "input_number_of_posts_limit": {
     "currentValue": "500",
     "nuid": "241c3b8d-28e0-4e35-8e54-e0bc19ebe3bc",
     "typedWidgetInfo": {
      "autoCreated": false,
      "defaultValue": "500",
      "label": null,
      "name": "input_number_of_posts_limit",
      "options": {
       "widgetDisplayType": "Text",
       "validationRegex": null
      },
      "parameterDataType": "String"
     },
     "widgetInfo": {
      "widgetType": "text",
      "defaultValue": "500",
      "label": null,
      "name": "input_number_of_posts_limit",
      "options": {
       "widgetType": "text",
       "autoCreated": null,
       "validationRegex": null
      }
     }
    },
    "input_sort_type": {
     "currentValue": "hot",
     "nuid": "eb006ea4-e702-4cf6-a845-8b7c211058ed",
     "typedWidgetInfo": {
      "autoCreated": false,
      "defaultValue": "top",
      "label": null,
      "name": "input_sort_type",
      "options": {
       "widgetDisplayType": "Dropdown",
       "choices": [
        "relevance",
        "hot",
        "top",
        "new",
        "comments"
       ],
       "fixedDomain": true,
       "multiselect": false
      },
      "parameterDataType": "String"
     },
     "widgetInfo": {
      "widgetType": "dropdown",
      "defaultValue": "top",
      "label": null,
      "name": "input_sort_type",
      "options": {
       "widgetType": "dropdown",
       "autoCreated": null,
       "choices": [
        "relevance",
        "hot",
        "top",
        "new",
        "comments"
       ]
      }
     }
    },
    "input_subreddit_list": {
     "currentValue": "['stocks', 'investing', 'trading', 'wallstreetbets']",
     "nuid": "448506ab-f936-4894-a347-90dc1b5c629c",
     "typedWidgetInfo": {
      "autoCreated": false,
      "defaultValue": "['stocks', 'investing', 'trading', 'wallstreetbets']",
      "label": null,
      "name": "input_subreddit_list",
      "options": {
       "widgetDisplayType": "Text",
       "validationRegex": null
      },
      "parameterDataType": "String"
     },
     "widgetInfo": {
      "widgetType": "text",
      "defaultValue": "['stocks', 'investing', 'trading', 'wallstreetbets']",
      "label": null,
      "name": "input_subreddit_list",
      "options": {
       "widgetType": "text",
       "autoCreated": null,
       "validationRegex": null
      }
     }
    },
    "input_time_filter": {
     "currentValue": "month",
     "nuid": "fcac3d5b-a59f-4ea5-accb-937bc7a62ff3",
     "typedWidgetInfo": {
      "autoCreated": false,
      "defaultValue": "month",
      "label": null,
      "name": "input_time_filter",
      "options": {
       "widgetDisplayType": "Dropdown",
       "choices": [
        "day",
        "month",
        "year"
       ],
       "fixedDomain": true,
       "multiselect": false
      },
      "parameterDataType": "String"
     },
     "widgetInfo": {
      "widgetType": "dropdown",
      "defaultValue": "month",
      "label": null,
      "name": "input_time_filter",
      "options": {
       "widgetType": "dropdown",
       "autoCreated": null,
       "choices": [
        "day",
        "month",
        "year"
       ]
      }
     }
    },
    "job_id": {
     "currentValue": "",
     "nuid": "b3511efa-d0a3-4c93-9d27-d1cd13f162e6",
     "typedWidgetInfo": {
      "autoCreated": false,
      "defaultValue": "",
      "label": null,
      "name": "job_id",
      "options": {
       "widgetDisplayType": "Text",
       "validationRegex": null
      },
      "parameterDataType": "String"
     },
     "widgetInfo": {
      "widgetType": "text",
      "defaultValue": "",
      "label": null,
      "name": "job_id",
      "options": {
       "widgetType": "text",
       "autoCreated": null,
       "validationRegex": null
      }
     }
    },
    "job_name": {
     "currentValue": "",
     "nuid": "d0fad51e-d23d-4970-9727-4b45e4b6810c",
     "typedWidgetInfo": {
      "autoCreated": false,
      "defaultValue": "",
      "label": null,
      "name": "job_name",
      "options": {
       "widgetDisplayType": "Text",
       "validationRegex": null
      },
      "parameterDataType": "String"
     },
     "widgetInfo": {
      "widgetType": "text",
      "defaultValue": "",
      "label": null,
      "name": "job_name",
      "options": {
       "widgetType": "text",
       "autoCreated": null,
       "validationRegex": null
      }
     }
    },
    "job_start_date": {
     "currentValue": "",
     "nuid": "9d08af48-ea77-46aa-af4d-6814275fa80e",
     "typedWidgetInfo": {
      "autoCreated": false,
      "defaultValue": "",
      "label": null,
      "name": "job_start_date",
      "options": {
       "widgetDisplayType": "Text",
       "validationRegex": null
      },
      "parameterDataType": "String"
     },
     "widgetInfo": {
      "widgetType": "text",
      "defaultValue": "",
      "label": null,
      "name": "job_start_date",
      "options": {
       "widgetType": "text",
       "autoCreated": null,
       "validationRegex": null
      }
     }
    },
    "job_start_datetime": {
     "currentValue": "",
     "nuid": "9b82613d-9e53-480b-9755-5f0af419eab4",
     "typedWidgetInfo": {
      "autoCreated": false,
      "defaultValue": "",
      "label": null,
      "name": "job_start_datetime",
      "options": {
       "widgetDisplayType": "Text",
       "validationRegex": null
      },
      "parameterDataType": "String"
     },
     "widgetInfo": {
      "widgetType": "text",
      "defaultValue": "",
      "label": null,
      "name": "job_start_datetime",
      "options": {
       "widgetType": "text",
       "autoCreated": null,
       "validationRegex": null
      }
     }
    },
    "task_name": {
     "currentValue": "",
     "nuid": "75628112-0c94-41ce-990e-4c13d35df445",
     "typedWidgetInfo": {
      "autoCreated": false,
      "defaultValue": "",
      "label": null,
      "name": "task_name",
      "options": {
       "widgetDisplayType": "Text",
       "validationRegex": null
      },
      "parameterDataType": "String"
     },
     "widgetInfo": {
      "widgetType": "text",
      "defaultValue": "",
      "label": null,
      "name": "task_name",
      "options": {
       "widgetType": "text",
       "autoCreated": null,
       "validationRegex": null
      }
     }
    },
    "task_run_id": {
     "currentValue": "",
     "nuid": "c9209868-b2a7-4252-9706-c7f684bd04da",
     "typedWidgetInfo": {
      "autoCreated": false,
      "defaultValue": "",
      "label": null,
      "name": "task_run_id",
      "options": {
       "widgetDisplayType": "Text",
       "validationRegex": null
      },
      "parameterDataType": "String"
     },
     "widgetInfo": {
      "widgetType": "text",
      "defaultValue": "",
      "label": null,
      "name": "task_run_id",
      "options": {
       "widgetType": "text",
       "autoCreated": null,
       "validationRegex": null
      }
     }
    }
   }
  },
  "language_info": {
   "name": "python"
  }
 },
 "nbformat": 4,
 "nbformat_minor": 0
}
